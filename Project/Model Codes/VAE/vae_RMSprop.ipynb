{
 "cells": [
  {
   "cell_type": "code",
   "execution_count": null,
   "metadata": {
    "id": "Do_HESZgU06R"
   },
   "outputs": [],
   "source": [
    "import numpy as np\n",
    "import tensorflow as tf\n",
    "from tensorflow import keras\n",
    "from tensorflow.keras import layers"
   ]
  },
  {
   "cell_type": "code",
   "execution_count": null,
   "metadata": {
    "id": "8Bi-pDTjU06V"
   },
   "outputs": [],
   "source": [
    "\n",
    "class Sampling(layers.Layer):\n",
    "    \"\"\"Uses (z_mean, z_log_var) to sample z, the vector encoding a digit.\"\"\"\n",
    "\n",
    "    def call(self, inputs):\n",
    "        z_mean, z_log_var = inputs\n",
    "        batch = tf.shape(z_mean)[0]\n",
    "        dim = tf.shape(z_mean)[1]\n",
    "        epsilon = tf.keras.backend.random_normal(shape=(batch, dim))\n",
    "        return z_mean + tf.exp(0.5 * z_log_var) * epsilon\n"
   ]
  },
  {
   "cell_type": "code",
   "execution_count": null,
   "metadata": {
    "colab": {
     "base_uri": "https://localhost:8080/"
    },
    "id": "C3ElzNLTU06W",
    "outputId": "7f3e968b-1110-49b2-bdc7-fd855eb3e595"
   },
   "outputs": [
    {
     "name": "stdout",
     "output_type": "stream",
     "text": [
      "Model: \"encoder\"\n",
      "__________________________________________________________________________________________________\n",
      " Layer (type)                   Output Shape         Param #     Connected to                     \n",
      "==================================================================================================\n",
      " input_7 (InputLayer)           [(None, 28, 28, 1)]  0           []                               \n",
      "                                                                                                  \n",
      " conv2d_6 (Conv2D)              (None, 14, 14, 32)   320         ['input_7[0][0]']                \n",
      "                                                                                                  \n",
      " conv2d_7 (Conv2D)              (None, 7, 7, 64)     18496       ['conv2d_6[0][0]']               \n",
      "                                                                                                  \n",
      " flatten_3 (Flatten)            (None, 3136)         0           ['conv2d_7[0][0]']               \n",
      "                                                                                                  \n",
      " dense_6 (Dense)                (None, 16)           50192       ['flatten_3[0][0]']              \n",
      "                                                                                                  \n",
      " z_mean (Dense)                 (None, 2)            34          ['dense_6[0][0]']                \n",
      "                                                                                                  \n",
      " z_log_var (Dense)              (None, 2)            34          ['dense_6[0][0]']                \n",
      "                                                                                                  \n",
      " sampling_3 (Sampling)          (None, 2)            0           ['z_mean[0][0]',                 \n",
      "                                                                  'z_log_var[0][0]']              \n",
      "                                                                                                  \n",
      "==================================================================================================\n",
      "Total params: 69,076\n",
      "Trainable params: 69,076\n",
      "Non-trainable params: 0\n",
      "__________________________________________________________________________________________________\n"
     ]
    }
   ],
   "source": [
    "latent_dim = 2\n",
    "\n",
    "encoder_inputs = keras.Input(shape=(28, 28, 1))\n",
    "x = layers.Conv2D(32, 3, activation=\"tanh\", strides=2, padding=\"same\")(encoder_inputs)\n",
    "x = layers.Conv2D(64, 3, activation=\"tanh\", strides=2, padding=\"same\")(x)\n",
    "x = layers.Flatten()(x)\n",
    "x = layers.Dense(16, activation=\"tanh\")(x)\n",
    "z_mean = layers.Dense(latent_dim, name=\"z_mean\")(x)\n",
    "z_log_var = layers.Dense(latent_dim, name=\"z_log_var\")(x)\n",
    "z = Sampling()([z_mean, z_log_var])\n",
    "encoder = keras.Model(encoder_inputs, [z_mean, z_log_var, z], name=\"encoder\")\n",
    "encoder.summary()"
   ]
  },
  {
   "cell_type": "code",
   "execution_count": null,
   "metadata": {
    "colab": {
     "base_uri": "https://localhost:8080/"
    },
    "id": "B__dOjkVU06Y",
    "outputId": "356740dc-957f-416d-c0e9-d06d411f5337"
   },
   "outputs": [
    {
     "name": "stdout",
     "output_type": "stream",
     "text": [
      "Model: \"decoder\"\n",
      "_________________________________________________________________\n",
      " Layer (type)                Output Shape              Param #   \n",
      "=================================================================\n",
      " input_8 (InputLayer)        [(None, 2)]               0         \n",
      "                                                                 \n",
      " dense_7 (Dense)             (None, 3136)              9408      \n",
      "                                                                 \n",
      " reshape_3 (Reshape)         (None, 7, 7, 64)          0         \n",
      "                                                                 \n",
      " conv2d_transpose_9 (Conv2DT  (None, 14, 14, 64)       36928     \n",
      " ranspose)                                                       \n",
      "                                                                 \n",
      " conv2d_transpose_10 (Conv2D  (None, 28, 28, 32)       18464     \n",
      " Transpose)                                                      \n",
      "                                                                 \n",
      " conv2d_transpose_11 (Conv2D  (None, 28, 28, 1)        289       \n",
      " Transpose)                                                      \n",
      "                                                                 \n",
      "=================================================================\n",
      "Total params: 65,089\n",
      "Trainable params: 65,089\n",
      "Non-trainable params: 0\n",
      "_________________________________________________________________\n"
     ]
    }
   ],
   "source": [
    "latent_inputs = keras.Input(shape=(latent_dim,))\n",
    "x = layers.Dense(7 * 7 * 64, activation=\"tanh\")(latent_inputs)\n",
    "x = layers.Reshape((7, 7, 64))(x)\n",
    "x = layers.Conv2DTranspose(64, 3, activation=\"tanh\", strides=2, padding=\"same\")(x)\n",
    "x = layers.Conv2DTranspose(32, 3, activation=\"tanh\", strides=2, padding=\"same\")(x)\n",
    "decoder_outputs = layers.Conv2DTranspose(1, 3, activation=\"sigmoid\", padding=\"same\")(x)\n",
    "decoder = keras.Model(latent_inputs, decoder_outputs, name=\"decoder\")\n",
    "decoder.summary()"
   ]
  },
  {
   "cell_type": "code",
   "execution_count": null,
   "metadata": {
    "id": "glkzM5YPU06Z"
   },
   "outputs": [],
   "source": [
    "\n",
    "class VAE(keras.Model):\n",
    "    def __init__(self, encoder, decoder, **kwargs):\n",
    "        super(VAE, self).__init__(**kwargs)\n",
    "        self.encoder = encoder\n",
    "        self.decoder = decoder\n",
    "        self.total_loss_tracker = keras.metrics.Mean(name=\"total_loss\")\n",
    "        self.reconstruction_loss_tracker = keras.metrics.Mean(\n",
    "            name=\"reconstruction_loss\"\n",
    "        )\n",
    "        self.kl_loss_tracker = keras.metrics.Mean(name=\"kl_loss\")\n",
    "\n",
    "    @property\n",
    "    def metrics(self):\n",
    "        return [\n",
    "            self.total_loss_tracker,\n",
    "            self.reconstruction_loss_tracker,\n",
    "            self.kl_loss_tracker,\n",
    "        ]\n",
    "\n",
    "    def train_step(self, data):\n",
    "        with tf.GradientTape() as tape:\n",
    "            z_mean, z_log_var, z = self.encoder(data)\n",
    "            reconstruction = self.decoder(z)\n",
    "            reconstruction_loss = tf.reduce_mean(\n",
    "                tf.reduce_sum(\n",
    "                    keras.losses.binary_crossentropy(data, reconstruction), axis=(1, 2)\n",
    "                )\n",
    "            )\n",
    "            kl_loss = -0.5 * (1 + z_log_var - tf.square(z_mean) - tf.exp(z_log_var))\n",
    "            kl_loss = tf.reduce_mean(tf.reduce_sum(kl_loss, axis=1))\n",
    "            total_loss = reconstruction_loss + kl_loss\n",
    "        grads = tape.gradient(total_loss, self.trainable_weights)\n",
    "        self.optimizer.apply_gradients(zip(grads, self.trainable_weights))\n",
    "        self.total_loss_tracker.update_state(total_loss)\n",
    "        self.reconstruction_loss_tracker.update_state(reconstruction_loss)\n",
    "        self.kl_loss_tracker.update_state(kl_loss)\n",
    "        return {\n",
    "            \"loss\": self.total_loss_tracker.result(),\n",
    "            \"reconstruction_loss\": self.reconstruction_loss_tracker.result(),\n",
    "            \"kl_loss\": self.kl_loss_tracker.result(),\n",
    "        }\n"
   ]
  },
  {
   "cell_type": "code",
   "execution_count": null,
   "metadata": {
    "colab": {
     "base_uri": "https://localhost:8080/"
    },
    "id": "9ZSRMxXiU06a",
    "outputId": "af22ddbe-e2e6-431d-fcab-35cfdd13fa75"
   },
   "outputs": [
    {
     "name": "stdout",
     "output_type": "stream",
     "text": [
      "Epoch 1/50\n",
      "274/274 [==============================] - 5s 14ms/step - loss: 233.7702 - reconstruction_loss: 193.8174 - kl_loss: 4.3315\n",
      "Epoch 2/50\n",
      "274/274 [==============================] - 4s 14ms/step - loss: 181.4602 - reconstruction_loss: 177.0706 - kl_loss: 4.1694\n",
      "Epoch 3/50\n",
      "274/274 [==============================] - 4s 14ms/step - loss: 180.2338 - reconstruction_loss: 175.4492 - kl_loss: 4.2063\n",
      "Epoch 4/50\n",
      "274/274 [==============================] - 4s 14ms/step - loss: 177.1519 - reconstruction_loss: 172.1038 - kl_loss: 4.4239\n",
      "Epoch 5/50\n",
      "274/274 [==============================] - 4s 14ms/step - loss: 174.6381 - reconstruction_loss: 169.4814 - kl_loss: 4.6187\n",
      "Epoch 6/50\n",
      "274/274 [==============================] - 4s 14ms/step - loss: 172.8646 - reconstruction_loss: 167.9508 - kl_loss: 4.7076\n",
      "Epoch 7/50\n",
      "274/274 [==============================] - 4s 14ms/step - loss: 171.6828 - reconstruction_loss: 166.7604 - kl_loss: 4.7896\n",
      "Epoch 8/50\n",
      "274/274 [==============================] - 4s 14ms/step - loss: 170.6560 - reconstruction_loss: 165.4229 - kl_loss: 4.8641\n",
      "Epoch 9/50\n",
      "274/274 [==============================] - 4s 14ms/step - loss: 169.1013 - reconstruction_loss: 163.7475 - kl_loss: 4.9655\n",
      "Epoch 10/50\n",
      "274/274 [==============================] - 4s 14ms/step - loss: 167.6191 - reconstruction_loss: 162.2654 - kl_loss: 5.0571\n",
      "Epoch 11/50\n",
      "274/274 [==============================] - 4s 14ms/step - loss: 166.3024 - reconstruction_loss: 160.8302 - kl_loss: 5.1597\n",
      "Epoch 12/50\n",
      "274/274 [==============================] - 4s 14ms/step - loss: 165.1351 - reconstruction_loss: 159.4823 - kl_loss: 5.2532\n",
      "Epoch 13/50\n",
      "274/274 [==============================] - 4s 14ms/step - loss: 163.5162 - reconstruction_loss: 158.1862 - kl_loss: 5.3388\n",
      "Epoch 14/50\n",
      "274/274 [==============================] - 4s 14ms/step - loss: 162.3062 - reconstruction_loss: 156.9560 - kl_loss: 5.4073\n",
      "Epoch 15/50\n",
      "274/274 [==============================] - 4s 14ms/step - loss: 161.8040 - reconstruction_loss: 155.8670 - kl_loss: 5.4745\n",
      "Epoch 16/50\n",
      "274/274 [==============================] - 4s 14ms/step - loss: 160.3947 - reconstruction_loss: 154.7528 - kl_loss: 5.5552\n",
      "Epoch 17/50\n",
      "274/274 [==============================] - 4s 14ms/step - loss: 159.7847 - reconstruction_loss: 153.8156 - kl_loss: 5.6304\n",
      "Epoch 18/50\n",
      "274/274 [==============================] - 4s 14ms/step - loss: 158.6118 - reconstruction_loss: 152.9264 - kl_loss: 5.6833\n",
      "Epoch 19/50\n",
      "274/274 [==============================] - 4s 14ms/step - loss: 157.9287 - reconstruction_loss: 152.1357 - kl_loss: 5.7186\n",
      "Epoch 20/50\n",
      "274/274 [==============================] - 4s 14ms/step - loss: 157.2951 - reconstruction_loss: 151.3628 - kl_loss: 5.7907\n",
      "Epoch 21/50\n",
      "274/274 [==============================] - 4s 14ms/step - loss: 156.7228 - reconstruction_loss: 150.6349 - kl_loss: 5.8472\n",
      "Epoch 22/50\n",
      "274/274 [==============================] - 4s 14ms/step - loss: 155.7638 - reconstruction_loss: 149.9462 - kl_loss: 5.8833\n",
      "Epoch 23/50\n",
      "274/274 [==============================] - 4s 15ms/step - loss: 155.2645 - reconstruction_loss: 149.3271 - kl_loss: 5.9307\n",
      "Epoch 24/50\n",
      "274/274 [==============================] - 4s 15ms/step - loss: 155.1255 - reconstruction_loss: 148.8014 - kl_loss: 5.9773\n",
      "Epoch 25/50\n",
      "274/274 [==============================] - 4s 14ms/step - loss: 154.0565 - reconstruction_loss: 148.2689 - kl_loss: 6.0114\n",
      "Epoch 26/50\n",
      "274/274 [==============================] - 4s 14ms/step - loss: 153.9406 - reconstruction_loss: 147.8410 - kl_loss: 6.0534\n",
      "Epoch 27/50\n",
      "274/274 [==============================] - 4s 14ms/step - loss: 153.5714 - reconstruction_loss: 147.4481 - kl_loss: 6.0926\n",
      "Epoch 28/50\n",
      "274/274 [==============================] - 4s 14ms/step - loss: 153.4682 - reconstruction_loss: 146.9794 - kl_loss: 6.1017\n",
      "Epoch 29/50\n",
      "274/274 [==============================] - 4s 15ms/step - loss: 152.7614 - reconstruction_loss: 146.6124 - kl_loss: 6.1367\n",
      "Epoch 30/50\n",
      "274/274 [==============================] - 4s 16ms/step - loss: 152.5177 - reconstruction_loss: 146.2977 - kl_loss: 6.1523\n",
      "Epoch 31/50\n",
      "274/274 [==============================] - 4s 14ms/step - loss: 152.1478 - reconstruction_loss: 145.9861 - kl_loss: 6.1952\n",
      "Epoch 32/50\n",
      "274/274 [==============================] - 4s 14ms/step - loss: 151.9378 - reconstruction_loss: 145.6785 - kl_loss: 6.2149\n",
      "Epoch 33/50\n",
      "274/274 [==============================] - 4s 14ms/step - loss: 151.5549 - reconstruction_loss: 145.3795 - kl_loss: 6.2248\n",
      "Epoch 34/50\n",
      "274/274 [==============================] - 4s 14ms/step - loss: 150.8528 - reconstruction_loss: 145.0925 - kl_loss: 6.2417\n",
      "Epoch 35/50\n",
      "274/274 [==============================] - 4s 14ms/step - loss: 151.0471 - reconstruction_loss: 144.8123 - kl_loss: 6.2696\n",
      "Epoch 36/50\n",
      "274/274 [==============================] - 4s 14ms/step - loss: 150.6789 - reconstruction_loss: 144.5774 - kl_loss: 6.2837\n",
      "Epoch 37/50\n",
      "274/274 [==============================] - 4s 14ms/step - loss: 150.6141 - reconstruction_loss: 144.3329 - kl_loss: 6.3027\n",
      "Epoch 38/50\n",
      "274/274 [==============================] - 4s 14ms/step - loss: 150.4762 - reconstruction_loss: 144.0938 - kl_loss: 6.3298\n",
      "Epoch 39/50\n",
      "274/274 [==============================] - 4s 14ms/step - loss: 150.2044 - reconstruction_loss: 143.8239 - kl_loss: 6.3472\n",
      "Epoch 40/50\n",
      "274/274 [==============================] - 4s 14ms/step - loss: 150.1020 - reconstruction_loss: 143.6472 - kl_loss: 6.3574\n",
      "Epoch 41/50\n",
      "274/274 [==============================] - 4s 14ms/step - loss: 149.5408 - reconstruction_loss: 143.4286 - kl_loss: 6.3807\n",
      "Epoch 42/50\n",
      "274/274 [==============================] - 4s 14ms/step - loss: 149.4809 - reconstruction_loss: 143.1779 - kl_loss: 6.3925\n",
      "Epoch 43/50\n",
      "274/274 [==============================] - 4s 14ms/step - loss: 149.5956 - reconstruction_loss: 143.0045 - kl_loss: 6.4085\n",
      "Epoch 44/50\n",
      "274/274 [==============================] - 4s 14ms/step - loss: 149.0324 - reconstruction_loss: 142.7959 - kl_loss: 6.4271\n",
      "Epoch 45/50\n",
      "274/274 [==============================] - 4s 14ms/step - loss: 148.9985 - reconstruction_loss: 142.6601 - kl_loss: 6.4350\n",
      "Epoch 46/50\n",
      "274/274 [==============================] - 4s 14ms/step - loss: 148.9772 - reconstruction_loss: 142.5415 - kl_loss: 6.4485\n",
      "Epoch 47/50\n",
      "274/274 [==============================] - 4s 14ms/step - loss: 148.5298 - reconstruction_loss: 142.3586 - kl_loss: 6.4581\n",
      "Epoch 48/50\n",
      "274/274 [==============================] - 4s 14ms/step - loss: 148.2646 - reconstruction_loss: 142.2033 - kl_loss: 6.4782\n",
      "Epoch 49/50\n",
      "274/274 [==============================] - 4s 14ms/step - loss: 148.0572 - reconstruction_loss: 142.0089 - kl_loss: 6.4825\n",
      "Epoch 50/50\n",
      "274/274 [==============================] - 4s 14ms/step - loss: 148.5443 - reconstruction_loss: 141.8762 - kl_loss: 6.5115\n"
     ]
    }
   ],
   "source": [
    "(x_train, _), (x_test, _) = keras.datasets.mnist.load_data()\n",
    "mnist_digits = np.concatenate([x_train, x_test], axis=0)\n",
    "mnist_digits = np.expand_dims(mnist_digits, -1).astype(\"float32\") / 255\n",
    "\n",
    "vae = VAE(encoder, decoder)\n",
    "vae.compile(optimizer=keras.optimizers.RMSprop())\n",
    "history = vae.fit(mnist_digits, epochs=50, batch_size=256)"
   ]
  },
  {
   "cell_type": "code",
   "execution_count": null,
   "metadata": {
    "colab": {
     "base_uri": "https://localhost:8080/",
     "height": 297
    },
    "id": "W9M7wXa0jbNS",
    "outputId": "734645bd-d92a-4f4a-941f-584735ef8957"
   },
   "outputs": [
    {
     "data": {
      "application/javascript": [
       "\n",
       "    async function download(id, filename, size) {\n",
       "      if (!google.colab.kernel.accessAllowed) {\n",
       "        return;\n",
       "      }\n",
       "      const div = document.createElement('div');\n",
       "      const label = document.createElement('label');\n",
       "      label.textContent = `Downloading \"${filename}\": `;\n",
       "      div.appendChild(label);\n",
       "      const progress = document.createElement('progress');\n",
       "      progress.max = size;\n",
       "      div.appendChild(progress);\n",
       "      document.body.appendChild(div);\n",
       "\n",
       "      const buffers = [];\n",
       "      let downloaded = 0;\n",
       "\n",
       "      const channel = await google.colab.kernel.comms.open(id);\n",
       "      // Send a message to notify the kernel that we're ready.\n",
       "      channel.send({})\n",
       "\n",
       "      for await (const message of channel.messages) {\n",
       "        // Send a message to notify the kernel that we're ready.\n",
       "        channel.send({})\n",
       "        if (message.buffers) {\n",
       "          for (const buffer of message.buffers) {\n",
       "            buffers.push(buffer);\n",
       "            downloaded += buffer.byteLength;\n",
       "            progress.value = downloaded;\n",
       "          }\n",
       "        }\n",
       "      }\n",
       "      const blob = new Blob(buffers, {type: 'application/binary'});\n",
       "      const a = document.createElement('a');\n",
       "      a.href = window.URL.createObjectURL(blob);\n",
       "      a.download = filename;\n",
       "      div.appendChild(a);\n",
       "      a.click();\n",
       "      div.remove();\n",
       "    }\n",
       "  "
      ],
      "text/plain": [
       "<IPython.core.display.Javascript object>"
      ]
     },
     "metadata": {},
     "output_type": "display_data"
    },
    {
     "data": {
      "application/javascript": [
       "download(\"download_79ef90b5-44d0-4bc3-901c-c8630c353cde\", \"Losses_RMSprop.png\", 80548)"
      ],
      "text/plain": [
       "<IPython.core.display.Javascript object>"
      ]
     },
     "metadata": {},
     "output_type": "display_data"
    },
    {
     "data": {
      "text/plain": [
       "<Figure size 720x576 with 0 Axes>"
      ]
     },
     "metadata": {},
     "output_type": "display_data"
    },
    {
     "data": {
      "image/png": "[encoded data removed]",
      "text/plain": [
       "<Figure size 432x288 with 1 Axes>"
      ]
     },
     "metadata": {
      "needs_background": "light"
     },
     "output_type": "display_data"
    }
   ],
   "source": [
    "import pandas as pd\n",
    "import matplotlib.pyplot as plt\n",
    "from google.colab import files\n",
    "\n",
    "hist_df = pd.DataFrame(history.history)\n",
    "plt.figure(figsize=(10, 8))\n",
    "hist_df.plot()\n",
    "# hist_df.plot(y='reconstruction_loss', label='decoder loss')\n",
    "plt.xlabel('Epoch')\n",
    "plt.ylabel('Loss')\n",
    "plt.legend()\n",
    "plt.savefig('Losses_RMSprop.png',dpi=300)\n",
    "files.download(\"Losses_RMSprop.png\") \n",
    "plt.show()\n"
   ]
  },
  {
   "cell_type": "code",
   "execution_count": null,
   "metadata": {
    "id": "hThhqUAjU06a"
   },
   "outputs": [],
   "source": [
    "import matplotlib.pyplot as plt\n",
    "\n",
    "\n",
    "def plot_latent_space(vae, n=30, figsize=15):\n",
    "    # display a n*n 2D manifold of digits\n",
    "    digit_size = 28\n",
    "    scale = 1.0\n",
    "    figure = np.zeros((digit_size * n, digit_size * n))\n",
    "    # linearly spaced coordinates corresponding to the 2D plot\n",
    "    # of digit classes in the latent space\n",
    "    grid_x = np.linspace(-scale, scale, n)\n",
    "    grid_y = np.linspace(-scale, scale, n)[::-1]\n",
    "\n",
    "    for i, yi in enumerate(grid_y):\n",
    "        for j, xi in enumerate(grid_x):\n",
    "            z_sample = np.array([[xi, yi]])\n",
    "            x_decoded = vae.decoder.predict(z_sample)\n",
    "            digit = x_decoded[0].reshape(digit_size, digit_size)\n",
    "            figure[\n",
    "                i * digit_size : (i + 1) * digit_size,\n",
    "                j * digit_size : (j + 1) * digit_size,\n",
    "            ] = digit\n",
    "\n",
    "    plt.figure(figsize=(figsize, figsize))\n",
    "    start_range = digit_size // 2\n",
    "    end_range = n * digit_size + start_range\n",
    "    pixel_range = np.arange(start_range, end_range, digit_size)\n",
    "    sample_range_x = np.round(grid_x, 1)\n",
    "    sample_range_y = np.round(grid_y, 1)\n",
    "    plt.xticks(pixel_range, sample_range_x)\n",
    "    plt.yticks(pixel_range, sample_range_y)\n",
    "    plt.xlabel(\"z[0]\")\n",
    "    plt.ylabel(\"z[1]\")\n",
    "    plt.imshow(figure, cmap=\"Greys_r\")\n",
    "    plt.show()\n",
    "\n",
    "\n",
    "plot_latent_space(vae)"
   ]
  },
  {
   "cell_type": "code",
   "execution_count": null,
   "metadata": {
    "id": "407oSZhqU06b"
   },
   "outputs": [],
   "source": [
    "\n",
    "def plot_label_clusters(vae, data, labels):\n",
    "    # display a 2D plot of the digit classes in the latent space\n",
    "    z_mean, _, _ = vae.encoder.predict(data)\n",
    "    plt.figure(figsize=(12, 10))\n",
    "    plt.scatter(z_mean[:, 0], z_mean[:, 1], c=labels)\n",
    "    plt.colorbar()\n",
    "    plt.xlabel(\"z[0]\")\n",
    "    plt.ylabel(\"z[1]\")\n",
    "    plt.show()\n",
    "\n",
    "\n",
    "(x_train, y_train), _ = keras.datasets.mnist.load_data()\n",
    "x_train = np.expand_dims(x_train, -1).astype(\"float32\") / 255\n",
    "\n",
    "plot_label_clusters(vae, x_train, y_train)"
   ]
  }
 ],
 "metadata": {
  "accelerator": "GPU",
  "colab": {
   "provenance": []
  },
  "gpuClass": "standard",
  "kernelspec": {
   "display_name": "Python 3 (ipykernel)",
   "language": "python",
   "name": "python3"
  },
  "language_info": {
   "codemirror_mode": {
    "name": "ipython",
    "version": 3
   },
   "file_extension": ".py",
   "mimetype": "text/x-python",
   "name": "python",
   "nbconvert_exporter": "python",
   "pygments_lexer": "ipython3",
   "version": "3.9.12"
  }
 },
 "nbformat": 4,
 "nbformat_minor": 1
}

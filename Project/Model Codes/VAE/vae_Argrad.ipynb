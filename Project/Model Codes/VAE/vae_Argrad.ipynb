{
  "cells": [
    {
      "cell_type": "code",
      "execution_count": null,
      "metadata": {
        "id": "Do_HESZgU06R"
      },
      "outputs": [],
      "source": [
        "import numpy as np\n",
        "import tensorflow as tf\n",
        "from tensorflow import keras\n",
        "from tensorflow.keras import layers"
      ]
    },
    {
      "cell_type": "code",
      "execution_count": null,
      "metadata": {
        "id": "8Bi-pDTjU06V"
      },
      "outputs": [],
      "source": [
        "\n",
        "class Sampling(layers.Layer):\n",
        "    \"\"\"Uses (z_mean, z_log_var) to sample z, the vector encoding a digit.\"\"\"\n",
        "\n",
        "    def call(self, inputs):\n",
        "        z_mean, z_log_var = inputs\n",
        "        batch = tf.shape(z_mean)[0]\n",
        "        dim = tf.shape(z_mean)[1]\n",
        "        epsilon = tf.keras.backend.random_normal(shape=(batch, dim))\n",
        "        return z_mean + tf.exp(0.5 * z_log_var) * epsilon\n"
      ]
    },
    {
      "cell_type": "code",
      "execution_count": null,
      "metadata": {
        "colab": {
          "base_uri": "https://localhost:8080/"
        },
        "id": "C3ElzNLTU06W",
        "outputId": "234d97bc-d94e-4bec-ff85-06f5ef5a051b"
      },
      "outputs": [
        {
          "output_type": "stream",
          "name": "stdout",
          "text": [
            "Model: \"encoder\"\n",
            "__________________________________________________________________________________________________\n",
            " Layer (type)                   Output Shape         Param #     Connected to                     \n",
            "==================================================================================================\n",
            " input_3 (InputLayer)           [(None, 28, 28, 1)]  0           []                               \n",
            "                                                                                                  \n",
            " conv2d_2 (Conv2D)              (None, 14, 14, 32)   320         ['input_3[0][0]']                \n",
            "                                                                                                  \n",
            " conv2d_3 (Conv2D)              (None, 7, 7, 64)     18496       ['conv2d_2[0][0]']               \n",
            "                                                                                                  \n",
            " flatten_1 (Flatten)            (None, 3136)         0           ['conv2d_3[0][0]']               \n",
            "                                                                                                  \n",
            " dense_2 (Dense)                (None, 16)           50192       ['flatten_1[0][0]']              \n",
            "                                                                                                  \n",
            " z_mean (Dense)                 (None, 2)            34          ['dense_2[0][0]']                \n",
            "                                                                                                  \n",
            " z_log_var (Dense)              (None, 2)            34          ['dense_2[0][0]']                \n",
            "                                                                                                  \n",
            " sampling_1 (Sampling)          (None, 2)            0           ['z_mean[0][0]',                 \n",
            "                                                                  'z_log_var[0][0]']              \n",
            "                                                                                                  \n",
            "==================================================================================================\n",
            "Total params: 69,076\n",
            "Trainable params: 69,076\n",
            "Non-trainable params: 0\n",
            "__________________________________________________________________________________________________\n"
          ]
        }
      ],
      "source": [
        "latent_dim = 2\n",
        "\n",
        "encoder_inputs = keras.Input(shape=(28, 28, 1))\n",
        "x = layers.Conv2D(32, 3, activation=\"tanh\", strides=2, padding=\"same\")(encoder_inputs)\n",
        "x = layers.Conv2D(64, 3, activation=\"tanh\", strides=2, padding=\"same\")(x)\n",
        "x = layers.Flatten()(x)\n",
        "x = layers.Dense(16, activation=\"tanh\")(x)\n",
        "z_mean = layers.Dense(latent_dim, name=\"z_mean\")(x)\n",
        "z_log_var = layers.Dense(latent_dim, name=\"z_log_var\")(x)\n",
        "z = Sampling()([z_mean, z_log_var])\n",
        "encoder = keras.Model(encoder_inputs, [z_mean, z_log_var, z], name=\"encoder\")\n",
        "encoder.summary()"
      ]
    },
    {
      "cell_type": "code",
      "execution_count": null,
      "metadata": {
        "colab": {
          "base_uri": "https://localhost:8080/"
        },
        "id": "B__dOjkVU06Y",
        "outputId": "44e55f67-fcd6-4cef-d8c2-262f69d47a10"
      },
      "outputs": [
        {
          "output_type": "stream",
          "name": "stdout",
          "text": [
            "Model: \"decoder\"\n",
            "_________________________________________________________________\n",
            " Layer (type)                Output Shape              Param #   \n",
            "=================================================================\n",
            " input_4 (InputLayer)        [(None, 2)]               0         \n",
            "                                                                 \n",
            " dense_3 (Dense)             (None, 3136)              9408      \n",
            "                                                                 \n",
            " reshape_1 (Reshape)         (None, 7, 7, 64)          0         \n",
            "                                                                 \n",
            " conv2d_transpose_3 (Conv2DT  (None, 14, 14, 64)       36928     \n",
            " ranspose)                                                       \n",
            "                                                                 \n",
            " conv2d_transpose_4 (Conv2DT  (None, 28, 28, 32)       18464     \n",
            " ranspose)                                                       \n",
            "                                                                 \n",
            " conv2d_transpose_5 (Conv2DT  (None, 28, 28, 1)        289       \n",
            " ranspose)                                                       \n",
            "                                                                 \n",
            "=================================================================\n",
            "Total params: 65,089\n",
            "Trainable params: 65,089\n",
            "Non-trainable params: 0\n",
            "_________________________________________________________________\n"
          ]
        }
      ],
      "source": [
        "latent_inputs = keras.Input(shape=(latent_dim,))\n",
        "x = layers.Dense(7 * 7 * 64, activation=\"tanh\")(latent_inputs)\n",
        "x = layers.Reshape((7, 7, 64))(x)\n",
        "x = layers.Conv2DTranspose(64, 3, activation=\"tanh\", strides=2, padding=\"same\")(x)\n",
        "x = layers.Conv2DTranspose(32, 3, activation=\"tanh\", strides=2, padding=\"same\")(x)\n",
        "decoder_outputs = layers.Conv2DTranspose(1, 3, activation=\"sigmoid\", padding=\"same\")(x)\n",
        "decoder = keras.Model(latent_inputs, decoder_outputs, name=\"decoder\")\n",
        "decoder.summary()"
      ]
    },
    {
      "cell_type": "code",
      "execution_count": null,
      "metadata": {
        "id": "glkzM5YPU06Z"
      },
      "outputs": [],
      "source": [
        "\n",
        "class VAE(keras.Model):\n",
        "    def __init__(self, encoder, decoder, **kwargs):\n",
        "        super(VAE, self).__init__(**kwargs)\n",
        "        self.encoder = encoder\n",
        "        self.decoder = decoder\n",
        "        self.total_loss_tracker = keras.metrics.Mean(name=\"total_loss\")\n",
        "        self.reconstruction_loss_tracker = keras.metrics.Mean(\n",
        "            name=\"reconstruction_loss\"\n",
        "        )\n",
        "        self.kl_loss_tracker = keras.metrics.Mean(name=\"kl_loss\")\n",
        "\n",
        "    @property\n",
        "    def metrics(self):\n",
        "        return [\n",
        "            self.total_loss_tracker,\n",
        "            self.reconstruction_loss_tracker,\n",
        "            self.kl_loss_tracker,\n",
        "        ]\n",
        "\n",
        "    def train_step(self, data):\n",
        "        with tf.GradientTape() as tape:\n",
        "            z_mean, z_log_var, z = self.encoder(data)\n",
        "            reconstruction = self.decoder(z)\n",
        "            reconstruction_loss = tf.reduce_mean(\n",
        "                tf.reduce_sum(\n",
        "                    keras.losses.binary_crossentropy(data, reconstruction), axis=(1, 2)\n",
        "                )\n",
        "            )\n",
        "            kl_loss = -0.5 * (1 + z_log_var - tf.square(z_mean) - tf.exp(z_log_var))\n",
        "            kl_loss = tf.reduce_mean(tf.reduce_sum(kl_loss, axis=1))\n",
        "            total_loss = reconstruction_loss + kl_loss\n",
        "        grads = tape.gradient(total_loss, self.trainable_weights)\n",
        "        self.optimizer.apply_gradients(zip(grads, self.trainable_weights))\n",
        "        self.total_loss_tracker.update_state(total_loss)\n",
        "        self.reconstruction_loss_tracker.update_state(reconstruction_loss)\n",
        "        self.kl_loss_tracker.update_state(kl_loss)\n",
        "        return {\n",
        "            \"loss\": self.total_loss_tracker.result(),\n",
        "            \"reconstruction_loss\": self.reconstruction_loss_tracker.result(),\n",
        "            \"kl_loss\": self.kl_loss_tracker.result(),\n",
        "        }\n"
      ]
    },
    {
      "cell_type": "code",
      "execution_count": null,
      "metadata": {
        "colab": {
          "base_uri": "https://localhost:8080/"
        },
        "id": "9ZSRMxXiU06a",
        "outputId": "91c0b0e6-b1d2-4703-e4d7-e6b4c94f2cda"
      },
      "outputs": [
        {
          "output_type": "stream",
          "name": "stdout",
          "text": [
            "Epoch 1/50\n",
            "274/274 [==============================] - 5s 14ms/step - loss: 346.5526 - reconstruction_loss: 255.0334 - kl_loss: 6.8744\n",
            "Epoch 2/50\n",
            "274/274 [==============================] - 4s 14ms/step - loss: 202.3918 - reconstruction_loss: 194.9710 - kl_loss: 4.9934\n",
            "Epoch 3/50\n",
            "274/274 [==============================] - 4s 14ms/step - loss: 194.9388 - reconstruction_loss: 190.0492 - kl_loss: 4.1525\n",
            "Epoch 4/50\n",
            "274/274 [==============================] - 4s 14ms/step - loss: 192.1094 - reconstruction_loss: 187.4834 - kl_loss: 3.9918\n",
            "Epoch 5/50\n",
            "274/274 [==============================] - 4s 14ms/step - loss: 189.9683 - reconstruction_loss: 185.6061 - kl_loss: 3.9037\n",
            "Epoch 6/50\n",
            "274/274 [==============================] - 4s 14ms/step - loss: 187.9686 - reconstruction_loss: 183.8438 - kl_loss: 3.8775\n",
            "Epoch 7/50\n",
            "274/274 [==============================] - 4s 14ms/step - loss: 186.5225 - reconstruction_loss: 182.3327 - kl_loss: 3.8730\n",
            "Epoch 8/50\n",
            "274/274 [==============================] - 4s 14ms/step - loss: 185.0710 - reconstruction_loss: 181.1653 - kl_loss: 3.8809\n",
            "Epoch 9/50\n",
            "274/274 [==============================] - 4s 14ms/step - loss: 184.3066 - reconstruction_loss: 180.3035 - kl_loss: 3.8945\n",
            "Epoch 10/50\n",
            "274/274 [==============================] - 4s 14ms/step - loss: 183.5896 - reconstruction_loss: 179.6787 - kl_loss: 3.9155\n",
            "Epoch 11/50\n",
            "274/274 [==============================] - 4s 14ms/step - loss: 183.3895 - reconstruction_loss: 179.1654 - kl_loss: 3.9415\n",
            "Epoch 12/50\n",
            "274/274 [==============================] - 4s 14ms/step - loss: 182.8946 - reconstruction_loss: 178.7466 - kl_loss: 3.9678\n",
            "Epoch 13/50\n",
            "274/274 [==============================] - 4s 14ms/step - loss: 182.4214 - reconstruction_loss: 178.4026 - kl_loss: 3.9961\n",
            "Epoch 14/50\n",
            "274/274 [==============================] - 4s 14ms/step - loss: 182.2542 - reconstruction_loss: 178.1104 - kl_loss: 4.0263\n",
            "Epoch 15/50\n",
            "274/274 [==============================] - 4s 14ms/step - loss: 181.7807 - reconstruction_loss: 177.8571 - kl_loss: 4.0517\n",
            "Epoch 16/50\n",
            "274/274 [==============================] - 4s 14ms/step - loss: 181.6643 - reconstruction_loss: 177.6809 - kl_loss: 4.0773\n",
            "Epoch 17/50\n",
            "274/274 [==============================] - 4s 14ms/step - loss: 181.5281 - reconstruction_loss: 177.4339 - kl_loss: 4.0995\n",
            "Epoch 18/50\n",
            "274/274 [==============================] - 4s 14ms/step - loss: 181.3690 - reconstruction_loss: 177.2887 - kl_loss: 4.1189\n",
            "Epoch 19/50\n",
            "274/274 [==============================] - 4s 14ms/step - loss: 181.4492 - reconstruction_loss: 177.1325 - kl_loss: 4.1365\n",
            "Epoch 20/50\n",
            "274/274 [==============================] - 4s 14ms/step - loss: 181.5364 - reconstruction_loss: 176.9506 - kl_loss: 4.1545\n",
            "Epoch 21/50\n",
            "274/274 [==============================] - 4s 16ms/step - loss: 181.0347 - reconstruction_loss: 176.8392 - kl_loss: 4.1675\n",
            "Epoch 22/50\n",
            "274/274 [==============================] - 4s 14ms/step - loss: 181.0562 - reconstruction_loss: 176.7286 - kl_loss: 4.1833\n",
            "Epoch 23/50\n",
            "274/274 [==============================] - 4s 14ms/step - loss: 180.9036 - reconstruction_loss: 176.6379 - kl_loss: 4.1923\n",
            "Epoch 24/50\n",
            "274/274 [==============================] - 4s 14ms/step - loss: 180.9000 - reconstruction_loss: 176.5191 - kl_loss: 4.2058\n",
            "Epoch 25/50\n",
            "274/274 [==============================] - 4s 14ms/step - loss: 180.9159 - reconstruction_loss: 176.4448 - kl_loss: 4.2170\n",
            "Epoch 26/50\n",
            "274/274 [==============================] - 4s 14ms/step - loss: 180.8457 - reconstruction_loss: 176.3196 - kl_loss: 4.2288\n",
            "Epoch 27/50\n",
            "274/274 [==============================] - 4s 14ms/step - loss: 180.6365 - reconstruction_loss: 176.2703 - kl_loss: 4.2378\n",
            "Epoch 28/50\n",
            "274/274 [==============================] - 4s 14ms/step - loss: 180.3721 - reconstruction_loss: 176.2054 - kl_loss: 4.2489\n",
            "Epoch 29/50\n",
            "274/274 [==============================] - 4s 14ms/step - loss: 180.1931 - reconstruction_loss: 176.1454 - kl_loss: 4.2568\n",
            "Epoch 30/50\n",
            "274/274 [==============================] - 4s 14ms/step - loss: 180.5002 - reconstruction_loss: 176.0535 - kl_loss: 4.2675\n",
            "Epoch 31/50\n",
            "274/274 [==============================] - 4s 14ms/step - loss: 180.5068 - reconstruction_loss: 175.9934 - kl_loss: 4.2747\n",
            "Epoch 32/50\n",
            "274/274 [==============================] - 4s 14ms/step - loss: 180.6228 - reconstruction_loss: 175.9447 - kl_loss: 4.2798\n",
            "Epoch 33/50\n",
            "274/274 [==============================] - 4s 14ms/step - loss: 179.8713 - reconstruction_loss: 175.9032 - kl_loss: 4.2870\n",
            "Epoch 34/50\n",
            "274/274 [==============================] - 4s 14ms/step - loss: 180.0264 - reconstruction_loss: 175.8718 - kl_loss: 4.2956\n",
            "Epoch 35/50\n",
            "274/274 [==============================] - 4s 14ms/step - loss: 180.4076 - reconstruction_loss: 175.8181 - kl_loss: 4.3031\n",
            "Epoch 36/50\n",
            "274/274 [==============================] - 4s 14ms/step - loss: 180.1451 - reconstruction_loss: 175.7862 - kl_loss: 4.3107\n",
            "Epoch 37/50\n",
            "274/274 [==============================] - 4s 14ms/step - loss: 180.0673 - reconstruction_loss: 175.7271 - kl_loss: 4.3156\n",
            "Epoch 38/50\n",
            "274/274 [==============================] - 4s 14ms/step - loss: 180.1581 - reconstruction_loss: 175.6835 - kl_loss: 4.3224\n",
            "Epoch 39/50\n",
            "274/274 [==============================] - 4s 14ms/step - loss: 180.1791 - reconstruction_loss: 175.6394 - kl_loss: 4.3257\n",
            "Epoch 40/50\n",
            "274/274 [==============================] - 4s 14ms/step - loss: 179.7662 - reconstruction_loss: 175.6395 - kl_loss: 4.3303\n",
            "Epoch 41/50\n",
            "274/274 [==============================] - 4s 14ms/step - loss: 179.7782 - reconstruction_loss: 175.5942 - kl_loss: 4.3335\n",
            "Epoch 42/50\n",
            "274/274 [==============================] - 4s 14ms/step - loss: 179.8931 - reconstruction_loss: 175.5741 - kl_loss: 4.3384\n",
            "Epoch 43/50\n",
            "274/274 [==============================] - 4s 14ms/step - loss: 179.8394 - reconstruction_loss: 175.5093 - kl_loss: 4.3395\n",
            "Epoch 44/50\n",
            "274/274 [==============================] - 4s 14ms/step - loss: 179.8768 - reconstruction_loss: 175.4883 - kl_loss: 4.3412\n",
            "Epoch 45/50\n",
            "274/274 [==============================] - 4s 14ms/step - loss: 179.7010 - reconstruction_loss: 175.4534 - kl_loss: 4.3439\n",
            "Epoch 46/50\n",
            "274/274 [==============================] - 4s 14ms/step - loss: 179.7197 - reconstruction_loss: 175.4414 - kl_loss: 4.3442\n",
            "Epoch 47/50\n",
            "274/274 [==============================] - 4s 14ms/step - loss: 179.6025 - reconstruction_loss: 175.4157 - kl_loss: 4.3474\n",
            "Epoch 48/50\n",
            "274/274 [==============================] - 4s 14ms/step - loss: 179.6309 - reconstruction_loss: 175.4054 - kl_loss: 4.3513\n",
            "Epoch 49/50\n",
            "274/274 [==============================] - 4s 14ms/step - loss: 179.7201 - reconstruction_loss: 175.3621 - kl_loss: 4.3557\n",
            "Epoch 50/50\n",
            "274/274 [==============================] - 4s 14ms/step - loss: 179.4666 - reconstruction_loss: 175.3333 - kl_loss: 4.3604\n"
          ]
        }
      ],
      "source": [
        "(x_train, _), (x_test, _) = keras.datasets.mnist.load_data()\n",
        "mnist_digits = np.concatenate([x_train, x_test], axis=0)\n",
        "mnist_digits = np.expand_dims(mnist_digits, -1).astype(\"float32\") / 255\n",
        "\n",
        "vae = VAE(encoder, decoder)\n",
        "vae.compile(optimizer=keras.optimizers.Adagrad())\n",
        "history = vae.fit(mnist_digits, epochs=50, batch_size=256)"
      ]
    },
    {
      "cell_type": "code",
      "source": [
        "import pandas as pd\n",
        "import matplotlib.pyplot as plt\n",
        "from google.colab import files\n",
        "\n",
        "hist_df = pd.DataFrame(history.history)\n",
        "plt.figure(figsize=(10, 8))\n",
        "hist_df.plot()\n",
        "# hist_df.plot(y='reconstruction_loss', label='decoder loss')\n",
        "plt.xlabel('Epoch')\n",
        "plt.ylabel('Loss')\n",
        "plt.legend()\n",
        "plt.savefig('Losses_Adagrad.png',dpi=300)\n",
        "files.download(\"Losses_Adagrad.png\") \n",
        "plt.show()\n"
      ],
      "metadata": {
        "colab": {
          "base_uri": "https://localhost:8080/",
          "height": 297
        },
        "id": "W9M7wXa0jbNS",
        "outputId": "ae6bbf9e-d1b9-44d1-95da-babb333f7dc4"
      },
      "execution_count": null,
      "outputs": [
        {
          "output_type": "display_data",
          "data": {
            "text/plain": [
              "<IPython.core.display.Javascript object>"
            ],
            "application/javascript": [
              "\n",
              "    async function download(id, filename, size) {\n",
              "      if (!google.colab.kernel.accessAllowed) {\n",
              "        return;\n",
              "      }\n",
              "      const div = document.createElement('div');\n",
              "      const label = document.createElement('label');\n",
              "      label.textContent = `Downloading \"${filename}\": `;\n",
              "      div.appendChild(label);\n",
              "      const progress = document.createElement('progress');\n",
              "      progress.max = size;\n",
              "      div.appendChild(progress);\n",
              "      document.body.appendChild(div);\n",
              "\n",
              "      const buffers = [];\n",
              "      let downloaded = 0;\n",
              "\n",
              "      const channel = await google.colab.kernel.comms.open(id);\n",
              "      // Send a message to notify the kernel that we're ready.\n",
              "      channel.send({})\n",
              "\n",
              "      for await (const message of channel.messages) {\n",
              "        // Send a message to notify the kernel that we're ready.\n",
              "        channel.send({})\n",
              "        if (message.buffers) {\n",
              "          for (const buffer of message.buffers) {\n",
              "            buffers.push(buffer);\n",
              "            downloaded += buffer.byteLength;\n",
              "            progress.value = downloaded;\n",
              "          }\n",
              "        }\n",
              "      }\n",
              "      const blob = new Blob(buffers, {type: 'application/binary'});\n",
              "      const a = document.createElement('a');\n",
              "      a.href = window.URL.createObjectURL(blob);\n",
              "      a.download = filename;\n",
              "      div.appendChild(a);\n",
              "      a.click();\n",
              "      div.remove();\n",
              "    }\n",
              "  "
            ]
          },
          "metadata": {}
        },
        {
          "output_type": "display_data",
          "data": {
            "text/plain": [
              "<IPython.core.display.Javascript object>"
            ],
            "application/javascript": [
              "download(\"download_81996d9b-4798-47f7-a4ab-13144651a536\", \"Losses_Adagrad.png\", 68623)"
            ]
          },
          "metadata": {}
        },
        {
          "output_type": "display_data",
          "data": {
            "text/plain": [
              "<Figure size 720x576 with 0 Axes>"
            ]
          },
          "metadata": {}
        },
        {
          "output_type": "display_data",
          "data": {
            "text/plain": [
              "<Figure size 432x288 with 1 Axes>"
            ],
            "image/png": "[encoded data removed]"
          },
          "metadata": {
            "needs_background": "light"
          }
        }
      ]
    },
    {
      "cell_type": "code",
      "execution_count": null,
      "metadata": {
        "id": "hThhqUAjU06a"
      },
      "outputs": [],
      "source": [
        "import matplotlib.pyplot as plt\n",
        "\n",
        "\n",
        "def plot_latent_space(vae, n=30, figsize=15):\n",
        "    # display a n*n 2D manifold of digits\n",
        "    digit_size = 28\n",
        "    scale = 1.0\n",
        "    figure = np.zeros((digit_size * n, digit_size * n))\n",
        "    # linearly spaced coordinates corresponding to the 2D plot\n",
        "    # of digit classes in the latent space\n",
        "    grid_x = np.linspace(-scale, scale, n)\n",
        "    grid_y = np.linspace(-scale, scale, n)[::-1]\n",
        "\n",
        "    for i, yi in enumerate(grid_y):\n",
        "        for j, xi in enumerate(grid_x):\n",
        "            z_sample = np.array([[xi, yi]])\n",
        "            x_decoded = vae.decoder.predict(z_sample)\n",
        "            digit = x_decoded[0].reshape(digit_size, digit_size)\n",
        "            figure[\n",
        "                i * digit_size : (i + 1) * digit_size,\n",
        "                j * digit_size : (j + 1) * digit_size,\n",
        "            ] = digit\n",
        "\n",
        "    plt.figure(figsize=(figsize, figsize))\n",
        "    start_range = digit_size // 2\n",
        "    end_range = n * digit_size + start_range\n",
        "    pixel_range = np.arange(start_range, end_range, digit_size)\n",
        "    sample_range_x = np.round(grid_x, 1)\n",
        "    sample_range_y = np.round(grid_y, 1)\n",
        "    plt.xticks(pixel_range, sample_range_x)\n",
        "    plt.yticks(pixel_range, sample_range_y)\n",
        "    plt.xlabel(\"z[0]\")\n",
        "    plt.ylabel(\"z[1]\")\n",
        "    plt.imshow(figure, cmap=\"Greys_r\")\n",
        "    plt.show()\n",
        "\n",
        "\n",
        "plot_latent_space(vae)"
      ]
    },
    {
      "cell_type": "code",
      "execution_count": null,
      "metadata": {
        "id": "407oSZhqU06b"
      },
      "outputs": [],
      "source": [
        "\n",
        "def plot_label_clusters(vae, data, labels):\n",
        "    # display a 2D plot of the digit classes in the latent space\n",
        "    z_mean, _, _ = vae.encoder.predict(data)\n",
        "    plt.figure(figsize=(12, 10))\n",
        "    plt.scatter(z_mean[:, 0], z_mean[:, 1], c=labels)\n",
        "    plt.colorbar()\n",
        "    plt.xlabel(\"z[0]\")\n",
        "    plt.ylabel(\"z[1]\")\n",
        "    plt.show()\n",
        "\n",
        "\n",
        "(x_train, y_train), _ = keras.datasets.mnist.load_data()\n",
        "x_train = np.expand_dims(x_train, -1).astype(\"float32\") / 255\n",
        "\n",
        "plot_label_clusters(vae, x_train, y_train)"
      ]
    }
  ],
  "metadata": {
    "colab": {
      "provenance": []
    },
    "kernelspec": {
      "display_name": "Python 3",
      "language": "python",
      "name": "python3"
    },
    "language_info": {
      "codemirror_mode": {
        "name": "ipython",
        "version": 3
      },
      "file_extension": ".py",
      "mimetype": "text/x-python",
      "name": "python",
      "nbconvert_exporter": "python",
      "pygments_lexer": "ipython3",
      "version": "3.7.0"
    },
    "accelerator": "GPU",
    "gpuClass": "standard"
  },
  "nbformat": 4,
  "nbformat_minor": 0
}
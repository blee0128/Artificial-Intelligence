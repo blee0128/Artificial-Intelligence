{
  "cells": [
    {
      "cell_type": "code",
      "execution_count": null,
      "metadata": {
        "id": "Do_HESZgU06R"
      },
      "outputs": [],
      "source": [
        "import numpy as np\n",
        "import tensorflow as tf\n",
        "from tensorflow import keras\n",
        "from tensorflow.keras import layers"
      ]
    },
    {
      "cell_type": "code",
      "execution_count": null,
      "metadata": {
        "id": "8Bi-pDTjU06V"
      },
      "outputs": [],
      "source": [
        "\n",
        "class Sampling(layers.Layer):\n",
        "    \"\"\"Uses (z_mean, z_log_var) to sample z, the vector encoding a digit.\"\"\"\n",
        "\n",
        "    def call(self, inputs):\n",
        "        z_mean, z_log_var = inputs\n",
        "        batch = tf.shape(z_mean)[0]\n",
        "        dim = tf.shape(z_mean)[1]\n",
        "        epsilon = tf.keras.backend.random_normal(shape=(batch, dim))\n",
        "        return z_mean + tf.exp(0.5 * z_log_var) * epsilon\n"
      ]
    },
    {
      "cell_type": "code",
      "execution_count": null,
      "metadata": {
        "colab": {
          "base_uri": "https://localhost:8080/"
        },
        "id": "C3ElzNLTU06W",
        "outputId": "0a5e098a-4659-4114-9e9e-116ea488a1fb"
      },
      "outputs": [
        {
          "output_type": "stream",
          "name": "stdout",
          "text": [
            "Model: \"encoder\"\n",
            "__________________________________________________________________________________________________\n",
            " Layer (type)                   Output Shape         Param #     Connected to                     \n",
            "==================================================================================================\n",
            " input_5 (InputLayer)           [(None, 28, 28, 1)]  0           []                               \n",
            "                                                                                                  \n",
            " conv2d_4 (Conv2D)              (None, 14, 14, 32)   320         ['input_5[0][0]']                \n",
            "                                                                                                  \n",
            " conv2d_5 (Conv2D)              (None, 7, 7, 64)     18496       ['conv2d_4[0][0]']               \n",
            "                                                                                                  \n",
            " flatten_2 (Flatten)            (None, 3136)         0           ['conv2d_5[0][0]']               \n",
            "                                                                                                  \n",
            " dense_4 (Dense)                (None, 16)           50192       ['flatten_2[0][0]']              \n",
            "                                                                                                  \n",
            " z_mean (Dense)                 (None, 2)            34          ['dense_4[0][0]']                \n",
            "                                                                                                  \n",
            " z_log_var (Dense)              (None, 2)            34          ['dense_4[0][0]']                \n",
            "                                                                                                  \n",
            " sampling_2 (Sampling)          (None, 2)            0           ['z_mean[0][0]',                 \n",
            "                                                                  'z_log_var[0][0]']              \n",
            "                                                                                                  \n",
            "==================================================================================================\n",
            "Total params: 69,076\n",
            "Trainable params: 69,076\n",
            "Non-trainable params: 0\n",
            "__________________________________________________________________________________________________\n"
          ]
        }
      ],
      "source": [
        "latent_dim = 2\n",
        "\n",
        "encoder_inputs = keras.Input(shape=(28, 28, 1))\n",
        "x = layers.Conv2D(32, 3, activation=\"tanh\", strides=2, padding=\"same\")(encoder_inputs)\n",
        "x = layers.Conv2D(64, 3, activation=\"tanh\", strides=2, padding=\"same\")(x)\n",
        "x = layers.Flatten()(x)\n",
        "x = layers.Dense(16, activation=\"tanh\")(x)\n",
        "z_mean = layers.Dense(latent_dim, name=\"z_mean\")(x)\n",
        "z_log_var = layers.Dense(latent_dim, name=\"z_log_var\")(x)\n",
        "z = Sampling()([z_mean, z_log_var])\n",
        "encoder = keras.Model(encoder_inputs, [z_mean, z_log_var, z], name=\"encoder\")\n",
        "encoder.summary()"
      ]
    },
    {
      "cell_type": "code",
      "execution_count": null,
      "metadata": {
        "colab": {
          "base_uri": "https://localhost:8080/"
        },
        "id": "B__dOjkVU06Y",
        "outputId": "bf158656-ef15-48e1-a584-99017e1d2a4f"
      },
      "outputs": [
        {
          "output_type": "stream",
          "name": "stdout",
          "text": [
            "Model: \"decoder\"\n",
            "_________________________________________________________________\n",
            " Layer (type)                Output Shape              Param #   \n",
            "=================================================================\n",
            " input_6 (InputLayer)        [(None, 2)]               0         \n",
            "                                                                 \n",
            " dense_5 (Dense)             (None, 3136)              9408      \n",
            "                                                                 \n",
            " reshape_2 (Reshape)         (None, 7, 7, 64)          0         \n",
            "                                                                 \n",
            " conv2d_transpose_6 (Conv2DT  (None, 14, 14, 64)       36928     \n",
            " ranspose)                                                       \n",
            "                                                                 \n",
            " conv2d_transpose_7 (Conv2DT  (None, 28, 28, 32)       18464     \n",
            " ranspose)                                                       \n",
            "                                                                 \n",
            " conv2d_transpose_8 (Conv2DT  (None, 28, 28, 1)        289       \n",
            " ranspose)                                                       \n",
            "                                                                 \n",
            "=================================================================\n",
            "Total params: 65,089\n",
            "Trainable params: 65,089\n",
            "Non-trainable params: 0\n",
            "_________________________________________________________________\n"
          ]
        }
      ],
      "source": [
        "latent_inputs = keras.Input(shape=(latent_dim,))\n",
        "x = layers.Dense(7 * 7 * 64, activation=\"tanh\")(latent_inputs)\n",
        "x = layers.Reshape((7, 7, 64))(x)\n",
        "x = layers.Conv2DTranspose(64, 3, activation=\"tanh\", strides=2, padding=\"same\")(x)\n",
        "x = layers.Conv2DTranspose(32, 3, activation=\"tanh\", strides=2, padding=\"same\")(x)\n",
        "decoder_outputs = layers.Conv2DTranspose(1, 3, activation=\"sigmoid\", padding=\"same\")(x)\n",
        "decoder = keras.Model(latent_inputs, decoder_outputs, name=\"decoder\")\n",
        "decoder.summary()"
      ]
    },
    {
      "cell_type": "code",
      "execution_count": null,
      "metadata": {
        "id": "glkzM5YPU06Z"
      },
      "outputs": [],
      "source": [
        "\n",
        "class VAE(keras.Model):\n",
        "    def __init__(self, encoder, decoder, **kwargs):\n",
        "        super(VAE, self).__init__(**kwargs)\n",
        "        self.encoder = encoder\n",
        "        self.decoder = decoder\n",
        "        self.total_loss_tracker = keras.metrics.Mean(name=\"total_loss\")\n",
        "        self.reconstruction_loss_tracker = keras.metrics.Mean(\n",
        "            name=\"reconstruction_loss\"\n",
        "        )\n",
        "        self.kl_loss_tracker = keras.metrics.Mean(name=\"kl_loss\")\n",
        "\n",
        "    @property\n",
        "    def metrics(self):\n",
        "        return [\n",
        "            self.total_loss_tracker,\n",
        "            self.reconstruction_loss_tracker,\n",
        "            self.kl_loss_tracker,\n",
        "        ]\n",
        "\n",
        "    def train_step(self, data):\n",
        "        with tf.GradientTape() as tape:\n",
        "            z_mean, z_log_var, z = self.encoder(data)\n",
        "            reconstruction = self.decoder(z)\n",
        "            reconstruction_loss = tf.reduce_mean(\n",
        "                tf.reduce_sum(\n",
        "                    keras.losses.binary_crossentropy(data, reconstruction), axis=(1, 2)\n",
        "                )\n",
        "            )\n",
        "            kl_loss = -0.5 * (1 + z_log_var - tf.square(z_mean) - tf.exp(z_log_var))\n",
        "            kl_loss = tf.reduce_mean(tf.reduce_sum(kl_loss, axis=1))\n",
        "            total_loss = reconstruction_loss + kl_loss\n",
        "        grads = tape.gradient(total_loss, self.trainable_weights)\n",
        "        self.optimizer.apply_gradients(zip(grads, self.trainable_weights))\n",
        "        self.total_loss_tracker.update_state(total_loss)\n",
        "        self.reconstruction_loss_tracker.update_state(reconstruction_loss)\n",
        "        self.kl_loss_tracker.update_state(kl_loss)\n",
        "        return {\n",
        "            \"loss\": self.total_loss_tracker.result(),\n",
        "            \"reconstruction_loss\": self.reconstruction_loss_tracker.result(),\n",
        "            \"kl_loss\": self.kl_loss_tracker.result(),\n",
        "        }\n"
      ]
    },
    {
      "cell_type": "code",
      "execution_count": null,
      "metadata": {
        "colab": {
          "base_uri": "https://localhost:8080/"
        },
        "id": "9ZSRMxXiU06a",
        "outputId": "8fdf60e2-27e3-4da2-b73d-54fd4f2be0e8"
      },
      "outputs": [
        {
          "output_type": "stream",
          "name": "stdout",
          "text": [
            "Epoch 1/50\n",
            "274/274 [==============================] - 4s 14ms/step - loss: 88779.9348 - reconstruction_loss: 86111.5859 - kl_loss: 0.0064\n",
            "Epoch 2/50\n",
            "274/274 [==============================] - 4s 13ms/step - loss: 82876.0757 - reconstruction_loss: 82571.1094 - kl_loss: 0.0030\n",
            "Epoch 3/50\n",
            "274/274 [==============================] - 4s 13ms/step - loss: 81092.6796 - reconstruction_loss: 82423.6094 - kl_loss: 0.0023\n",
            "Epoch 4/50\n",
            "274/274 [==============================] - 4s 13ms/step - loss: 84620.8103 - reconstruction_loss: 83338.6016 - kl_loss: 0.0019\n",
            "Epoch 5/50\n",
            "274/274 [==============================] - 4s 13ms/step - loss: 81943.4347 - reconstruction_loss: 82863.4062 - kl_loss: 0.0016\n",
            "Epoch 6/50\n",
            "274/274 [==============================] - 4s 13ms/step - loss: 83321.5210 - reconstruction_loss: 83042.6797 - kl_loss: 0.0014\n",
            "Epoch 7/50\n",
            "274/274 [==============================] - 4s 13ms/step - loss: 82679.8346 - reconstruction_loss: 82893.2500 - kl_loss: 0.0013\n",
            "Epoch 8/50\n",
            "274/274 [==============================] - 4s 13ms/step - loss: 82152.5221 - reconstruction_loss: 82434.4453 - kl_loss: 0.0012\n",
            "Epoch 9/50\n",
            "274/274 [==============================] - 4s 14ms/step - loss: 85072.3130 - reconstruction_loss: 83362.2109 - kl_loss: 0.0011\n",
            "Epoch 10/50\n",
            "274/274 [==============================] - 4s 14ms/step - loss: 81582.7348 - reconstruction_loss: 82597.7891 - kl_loss: 9.8821e-04\n",
            "Epoch 11/50\n",
            "274/274 [==============================] - 4s 14ms/step - loss: 83198.3331 - reconstruction_loss: 83402.8594 - kl_loss: 9.1948e-04\n",
            "Epoch 12/50\n",
            "274/274 [==============================] - 4s 13ms/step - loss: 82159.0945 - reconstruction_loss: 82551.7188 - kl_loss: 8.6024e-04\n",
            "Epoch 13/50\n",
            "274/274 [==============================] - 4s 13ms/step - loss: 84537.6045 - reconstruction_loss: 83369.5000 - kl_loss: 8.0843e-04\n",
            "Epoch 14/50\n",
            "274/274 [==============================] - 4s 13ms/step - loss: 81883.8464 - reconstruction_loss: 83018.1641 - kl_loss: 7.6305e-04\n",
            "Epoch 15/50\n",
            "274/274 [==============================] - 4s 13ms/step - loss: 81397.5356 - reconstruction_loss: 82419.3125 - kl_loss: 7.2251e-04\n",
            "Epoch 16/50\n",
            "274/274 [==============================] - 4s 13ms/step - loss: 83161.4083 - reconstruction_loss: 82548.5000 - kl_loss: 6.8620e-04\n",
            "Epoch 17/50\n",
            "274/274 [==============================] - 4s 13ms/step - loss: 83785.9724 - reconstruction_loss: 83111.1172 - kl_loss: 6.5370e-04\n",
            "Epoch 18/50\n",
            "274/274 [==============================] - 4s 13ms/step - loss: 82621.8546 - reconstruction_loss: 83029.5312 - kl_loss: 6.2426e-04\n",
            "Epoch 19/50\n",
            "274/274 [==============================] - 4s 13ms/step - loss: 81960.3796 - reconstruction_loss: 82190.8125 - kl_loss: 5.9706e-04\n",
            "Epoch 20/50\n",
            "274/274 [==============================] - 4s 13ms/step - loss: 84902.7047 - reconstruction_loss: 83645.0859 - kl_loss: 5.7270e-04\n",
            "Epoch 21/50\n",
            "274/274 [==============================] - 4s 13ms/step - loss: 81862.2321 - reconstruction_loss: 82808.7188 - kl_loss: 5.4995e-04\n",
            "Epoch 22/50\n",
            "274/274 [==============================] - 4s 13ms/step - loss: 83959.6181 - reconstruction_loss: 83214.4766 - kl_loss: 5.2927e-04\n",
            "Epoch 23/50\n",
            "274/274 [==============================] - 4s 14ms/step - loss: 82027.9654 - reconstruction_loss: 82856.4062 - kl_loss: 5.0975e-04\n",
            "Epoch 24/50\n",
            "274/274 [==============================] - 4s 13ms/step - loss: 80509.1205 - reconstruction_loss: 82498.5469 - kl_loss: 4.9185e-04\n",
            "Epoch 25/50\n",
            "274/274 [==============================] - 4s 13ms/step - loss: 81839.7861 - reconstruction_loss: 82364.6875 - kl_loss: 4.7512e-04\n",
            "Epoch 26/50\n",
            "274/274 [==============================] - 4s 14ms/step - loss: 84349.0914 - reconstruction_loss: 83497.3984 - kl_loss: 4.5947e-04\n",
            "Epoch 27/50\n",
            "274/274 [==============================] - 4s 13ms/step - loss: 81840.7135 - reconstruction_loss: 82136.9766 - kl_loss: 4.4498e-04\n",
            "Epoch 28/50\n",
            "274/274 [==============================] - 4s 13ms/step - loss: 84418.3874 - reconstruction_loss: 83016.4609 - kl_loss: 4.3122e-04\n",
            "Epoch 29/50\n",
            "274/274 [==============================] - 4s 13ms/step - loss: 82987.1336 - reconstruction_loss: 82482.8281 - kl_loss: 4.1854e-04\n",
            "Epoch 30/50\n",
            "274/274 [==============================] - 4s 13ms/step - loss: 81242.6803 - reconstruction_loss: 82643.3281 - kl_loss: 4.0640e-04\n",
            "Epoch 31/50\n",
            "274/274 [==============================] - 4s 13ms/step - loss: 81845.2538 - reconstruction_loss: 82472.8359 - kl_loss: 3.9487e-04\n",
            "Epoch 32/50\n",
            "274/274 [==============================] - 4s 13ms/step - loss: 84571.3909 - reconstruction_loss: 82683.3906 - kl_loss: 3.8415e-04\n",
            "Epoch 33/50\n",
            "274/274 [==============================] - 4s 13ms/step - loss: 84235.5409 - reconstruction_loss: 83395.2891 - kl_loss: 3.7394e-04\n",
            "Epoch 34/50\n",
            "274/274 [==============================] - 4s 13ms/step - loss: 81303.3594 - reconstruction_loss: 82454.1406 - kl_loss: 3.6417e-04\n",
            "Epoch 35/50\n",
            "274/274 [==============================] - 4s 13ms/step - loss: 82568.2557 - reconstruction_loss: 82939.6875 - kl_loss: 3.5513e-04\n",
            "Epoch 36/50\n",
            "274/274 [==============================] - 4s 13ms/step - loss: 82653.2966 - reconstruction_loss: 82691.0547 - kl_loss: 3.4630e-04\n",
            "Epoch 37/50\n",
            "274/274 [==============================] - 4s 13ms/step - loss: 83029.2706 - reconstruction_loss: 83298.9844 - kl_loss: 3.3798e-04\n",
            "Epoch 38/50\n",
            "274/274 [==============================] - 4s 13ms/step - loss: 82076.4694 - reconstruction_loss: 82686.8828 - kl_loss: 3.3005e-04\n",
            "Epoch 39/50\n",
            "274/274 [==============================] - 4s 13ms/step - loss: 84408.6750 - reconstruction_loss: 83043.9844 - kl_loss: 3.2257e-04\n",
            "Epoch 40/50\n",
            "274/274 [==============================] - 4s 13ms/step - loss: 81764.4589 - reconstruction_loss: 82339.8203 - kl_loss: 3.1535e-04\n",
            "Epoch 41/50\n",
            "274/274 [==============================] - 4s 13ms/step - loss: 84686.1248 - reconstruction_loss: 83214.1016 - kl_loss: 3.0842e-04\n",
            "Epoch 42/50\n",
            "274/274 [==============================] - 4s 13ms/step - loss: 81707.5755 - reconstruction_loss: 82363.8359 - kl_loss: 3.0184e-04\n",
            "Epoch 43/50\n",
            "274/274 [==============================] - 4s 14ms/step - loss: 82558.1371 - reconstruction_loss: 82174.5859 - kl_loss: 2.9549e-04\n",
            "Epoch 44/50\n",
            "274/274 [==============================] - 4s 14ms/step - loss: 82862.1874 - reconstruction_loss: 83287.3594 - kl_loss: 2.8932e-04\n",
            "Epoch 45/50\n",
            "274/274 [==============================] - 4s 14ms/step - loss: 82305.7983 - reconstruction_loss: 82676.0547 - kl_loss: 2.8351e-04\n",
            "Epoch 46/50\n",
            "274/274 [==============================] - 4s 13ms/step - loss: 83104.0314 - reconstruction_loss: 81978.0234 - kl_loss: 2.7794e-04\n",
            "Epoch 47/50\n",
            "274/274 [==============================] - 4s 13ms/step - loss: 81145.5056 - reconstruction_loss: 82228.3281 - kl_loss: 2.7258e-04\n",
            "Epoch 48/50\n",
            "274/274 [==============================] - 4s 13ms/step - loss: 82279.0266 - reconstruction_loss: 82506.8125 - kl_loss: 2.6738e-04\n",
            "Epoch 49/50\n",
            "274/274 [==============================] - 4s 13ms/step - loss: 84080.6607 - reconstruction_loss: 82393.7500 - kl_loss: 2.6234e-04\n",
            "Epoch 50/50\n",
            "274/274 [==============================] - 4s 13ms/step - loss: 85365.1683 - reconstruction_loss: 83743.7812 - kl_loss: 2.5756e-04\n"
          ]
        }
      ],
      "source": [
        "(x_train, _), (x_test, _) = keras.datasets.mnist.load_data()\n",
        "mnist_digits = np.concatenate([x_train, x_test], axis=0)\n",
        "mnist_digits = np.expand_dims(mnist_digits, -1).astype(\"float32\") / 255\n",
        "\n",
        "vae = VAE(encoder, decoder)\n",
        "vae.compile(optimizer=keras.optimizers.SGD())\n",
        "history = vae.fit(mnist_digits, epochs=50, batch_size=256)"
      ]
    },
    {
      "cell_type": "code",
      "source": [
        "import pandas as pd\n",
        "import matplotlib.pyplot as plt\n",
        "from google.colab import files\n",
        "\n",
        "hist_df = pd.DataFrame(history.history)\n",
        "plt.figure(figsize=(10, 8))\n",
        "hist_df.plot()\n",
        "# hist_df.plot(y='reconstruction_loss', label='decoder loss')\n",
        "plt.xlabel('Epoch')\n",
        "plt.ylabel('Loss')\n",
        "plt.legend()\n",
        "plt.savefig('Losses_SGD.png',dpi=300)\n",
        "files.download(\"Losses_SGD.png\") \n",
        "plt.show()\n"
      ],
      "metadata": {
        "colab": {
          "base_uri": "https://localhost:8080/",
          "height": 297
        },
        "id": "W9M7wXa0jbNS",
        "outputId": "38674e7e-787a-46dc-9421-0770eb6170d8"
      },
      "execution_count": null,
      "outputs": [
        {
          "output_type": "display_data",
          "data": {
            "text/plain": [
              "<IPython.core.display.Javascript object>"
            ],
            "application/javascript": [
              "\n",
              "    async function download(id, filename, size) {\n",
              "      if (!google.colab.kernel.accessAllowed) {\n",
              "        return;\n",
              "      }\n",
              "      const div = document.createElement('div');\n",
              "      const label = document.createElement('label');\n",
              "      label.textContent = `Downloading \"${filename}\": `;\n",
              "      div.appendChild(label);\n",
              "      const progress = document.createElement('progress');\n",
              "      progress.max = size;\n",
              "      div.appendChild(progress);\n",
              "      document.body.appendChild(div);\n",
              "\n",
              "      const buffers = [];\n",
              "      let downloaded = 0;\n",
              "\n",
              "      const channel = await google.colab.kernel.comms.open(id);\n",
              "      // Send a message to notify the kernel that we're ready.\n",
              "      channel.send({})\n",
              "\n",
              "      for await (const message of channel.messages) {\n",
              "        // Send a message to notify the kernel that we're ready.\n",
              "        channel.send({})\n",
              "        if (message.buffers) {\n",
              "          for (const buffer of message.buffers) {\n",
              "            buffers.push(buffer);\n",
              "            downloaded += buffer.byteLength;\n",
              "            progress.value = downloaded;\n",
              "          }\n",
              "        }\n",
              "      }\n",
              "      const blob = new Blob(buffers, {type: 'application/binary'});\n",
              "      const a = document.createElement('a');\n",
              "      a.href = window.URL.createObjectURL(blob);\n",
              "      a.download = filename;\n",
              "      div.appendChild(a);\n",
              "      a.click();\n",
              "      div.remove();\n",
              "    }\n",
              "  "
            ]
          },
          "metadata": {}
        },
        {
          "output_type": "display_data",
          "data": {
            "text/plain": [
              "<IPython.core.display.Javascript object>"
            ],
            "application/javascript": [
              "download(\"download_1ddc2720-843e-4f3f-8a06-d50b560deebf\", \"Losses_SGD.png\", 68125)"
            ]
          },
          "metadata": {}
        },
        {
          "output_type": "display_data",
          "data": {
            "text/plain": [
              "<Figure size 720x576 with 0 Axes>"
            ]
          },
          "metadata": {}
        },
        {
          "output_type": "display_data",
          "data": {
            "text/plain": [
              "<Figure size 432x288 with 1 Axes>"
            ],
            "image/png": "[encoded data removed]"
          },
          "metadata": {
            "needs_background": "light"
          }
        }
      ]
    },
    {
      "cell_type": "code",
      "execution_count": null,
      "metadata": {
        "id": "hThhqUAjU06a"
      },
      "outputs": [],
      "source": [
        "import matplotlib.pyplot as plt\n",
        "\n",
        "\n",
        "def plot_latent_space(vae, n=30, figsize=15):\n",
        "    # display a n*n 2D manifold of digits\n",
        "    digit_size = 28\n",
        "    scale = 1.0\n",
        "    figure = np.zeros((digit_size * n, digit_size * n))\n",
        "    # linearly spaced coordinates corresponding to the 2D plot\n",
        "    # of digit classes in the latent space\n",
        "    grid_x = np.linspace(-scale, scale, n)\n",
        "    grid_y = np.linspace(-scale, scale, n)[::-1]\n",
        "\n",
        "    for i, yi in enumerate(grid_y):\n",
        "        for j, xi in enumerate(grid_x):\n",
        "            z_sample = np.array([[xi, yi]])\n",
        "            x_decoded = vae.decoder.predict(z_sample)\n",
        "            digit = x_decoded[0].reshape(digit_size, digit_size)\n",
        "            figure[\n",
        "                i * digit_size : (i + 1) * digit_size,\n",
        "                j * digit_size : (j + 1) * digit_size,\n",
        "            ] = digit\n",
        "\n",
        "    plt.figure(figsize=(figsize, figsize))\n",
        "    start_range = digit_size // 2\n",
        "    end_range = n * digit_size + start_range\n",
        "    pixel_range = np.arange(start_range, end_range, digit_size)\n",
        "    sample_range_x = np.round(grid_x, 1)\n",
        "    sample_range_y = np.round(grid_y, 1)\n",
        "    plt.xticks(pixel_range, sample_range_x)\n",
        "    plt.yticks(pixel_range, sample_range_y)\n",
        "    plt.xlabel(\"z[0]\")\n",
        "    plt.ylabel(\"z[1]\")\n",
        "    plt.imshow(figure, cmap=\"Greys_r\")\n",
        "    plt.show()\n",
        "\n",
        "\n",
        "plot_latent_space(vae)"
      ]
    },
    {
      "cell_type": "code",
      "execution_count": null,
      "metadata": {
        "id": "407oSZhqU06b"
      },
      "outputs": [],
      "source": [
        "\n",
        "def plot_label_clusters(vae, data, labels):\n",
        "    # display a 2D plot of the digit classes in the latent space\n",
        "    z_mean, _, _ = vae.encoder.predict(data)\n",
        "    plt.figure(figsize=(12, 10))\n",
        "    plt.scatter(z_mean[:, 0], z_mean[:, 1], c=labels)\n",
        "    plt.colorbar()\n",
        "    plt.xlabel(\"z[0]\")\n",
        "    plt.ylabel(\"z[1]\")\n",
        "    plt.show()\n",
        "\n",
        "\n",
        "(x_train, y_train), _ = keras.datasets.mnist.load_data()\n",
        "x_train = np.expand_dims(x_train, -1).astype(\"float32\") / 255\n",
        "\n",
        "plot_label_clusters(vae, x_train, y_train)"
      ]
    }
  ],
  "metadata": {
    "colab": {
      "provenance": []
    },
    "kernelspec": {
      "display_name": "Python 3",
      "language": "python",
      "name": "python3"
    },
    "language_info": {
      "codemirror_mode": {
        "name": "ipython",
        "version": 3
      },
      "file_extension": ".py",
      "mimetype": "text/x-python",
      "name": "python",
      "nbconvert_exporter": "python",
      "pygments_lexer": "ipython3",
      "version": "3.7.0"
    },
    "accelerator": "GPU",
    "gpuClass": "standard"
  },
  "nbformat": 4,
  "nbformat_minor": 0
}
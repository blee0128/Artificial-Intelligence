{
  "cells": [
    {
      "cell_type": "code",
      "execution_count": null,
      "metadata": {
        "id": "Do_HESZgU06R"
      },
      "outputs": [],
      "source": [
        "import numpy as np\n",
        "import tensorflow as tf\n",
        "from tensorflow import keras\n",
        "from tensorflow.keras import layers"
      ]
    },
    {
      "cell_type": "code",
      "execution_count": null,
      "metadata": {
        "id": "8Bi-pDTjU06V"
      },
      "outputs": [],
      "source": [
        "\n",
        "class Sampling(layers.Layer):\n",
        "    \"\"\"Uses (z_mean, z_log_var) to sample z, the vector encoding a digit.\"\"\"\n",
        "\n",
        "    def call(self, inputs):\n",
        "        z_mean, z_log_var = inputs\n",
        "        batch = tf.shape(z_mean)[0]\n",
        "        dim = tf.shape(z_mean)[1]\n",
        "        epsilon = tf.keras.backend.random_normal(shape=(batch, dim))\n",
        "        return z_mean + tf.exp(0.5 * z_log_var) * epsilon\n"
      ]
    },
    {
      "cell_type": "code",
      "execution_count": null,
      "metadata": {
        "colab": {
          "base_uri": "https://localhost:8080/"
        },
        "id": "C3ElzNLTU06W",
        "outputId": "0925a596-7e1b-4721-d97f-9c9bb9b35294"
      },
      "outputs": [
        {
          "output_type": "stream",
          "name": "stdout",
          "text": [
            "Model: \"encoder\"\n",
            "__________________________________________________________________________________________________\n",
            " Layer (type)                   Output Shape         Param #     Connected to                     \n",
            "==================================================================================================\n",
            " input_1 (InputLayer)           [(None, 28, 28, 1)]  0           []                               \n",
            "                                                                                                  \n",
            " conv2d (Conv2D)                (None, 14, 14, 32)   320         ['input_1[0][0]']                \n",
            "                                                                                                  \n",
            " conv2d_1 (Conv2D)              (None, 7, 7, 64)     18496       ['conv2d[0][0]']                 \n",
            "                                                                                                  \n",
            " flatten (Flatten)              (None, 3136)         0           ['conv2d_1[0][0]']               \n",
            "                                                                                                  \n",
            " dense (Dense)                  (None, 16)           50192       ['flatten[0][0]']                \n",
            "                                                                                                  \n",
            " z_mean (Dense)                 (None, 2)            34          ['dense[0][0]']                  \n",
            "                                                                                                  \n",
            " z_log_var (Dense)              (None, 2)            34          ['dense[0][0]']                  \n",
            "                                                                                                  \n",
            " sampling (Sampling)            (None, 2)            0           ['z_mean[0][0]',                 \n",
            "                                                                  'z_log_var[0][0]']              \n",
            "                                                                                                  \n",
            "==================================================================================================\n",
            "Total params: 69,076\n",
            "Trainable params: 69,076\n",
            "Non-trainable params: 0\n",
            "__________________________________________________________________________________________________\n"
          ]
        }
      ],
      "source": [
        "latent_dim = 2\n",
        "\n",
        "encoder_inputs = keras.Input(shape=(28, 28, 1))\n",
        "x = layers.Conv2D(32, 3, activation=\"tanh\", strides=2, padding=\"same\")(encoder_inputs)\n",
        "x = layers.Conv2D(64, 3, activation=\"tanh\", strides=2, padding=\"same\")(x)\n",
        "x = layers.Flatten()(x)\n",
        "x = layers.Dense(16, activation=\"tanh\")(x)\n",
        "z_mean = layers.Dense(latent_dim, name=\"z_mean\")(x)\n",
        "z_log_var = layers.Dense(latent_dim, name=\"z_log_var\")(x)\n",
        "z = Sampling()([z_mean, z_log_var])\n",
        "encoder = keras.Model(encoder_inputs, [z_mean, z_log_var, z], name=\"encoder\")\n",
        "encoder.summary()"
      ]
    },
    {
      "cell_type": "code",
      "execution_count": null,
      "metadata": {
        "colab": {
          "base_uri": "https://localhost:8080/"
        },
        "id": "B__dOjkVU06Y",
        "outputId": "b251d434-678b-498f-c9b6-f09c4b3778a4"
      },
      "outputs": [
        {
          "output_type": "stream",
          "name": "stdout",
          "text": [
            "Model: \"decoder\"\n",
            "_________________________________________________________________\n",
            " Layer (type)                Output Shape              Param #   \n",
            "=================================================================\n",
            " input_2 (InputLayer)        [(None, 2)]               0         \n",
            "                                                                 \n",
            " dense_1 (Dense)             (None, 3136)              9408      \n",
            "                                                                 \n",
            " reshape (Reshape)           (None, 7, 7, 64)          0         \n",
            "                                                                 \n",
            " conv2d_transpose (Conv2DTra  (None, 14, 14, 64)       36928     \n",
            " nspose)                                                         \n",
            "                                                                 \n",
            " conv2d_transpose_1 (Conv2DT  (None, 28, 28, 32)       18464     \n",
            " ranspose)                                                       \n",
            "                                                                 \n",
            " conv2d_transpose_2 (Conv2DT  (None, 28, 28, 1)        289       \n",
            " ranspose)                                                       \n",
            "                                                                 \n",
            "=================================================================\n",
            "Total params: 65,089\n",
            "Trainable params: 65,089\n",
            "Non-trainable params: 0\n",
            "_________________________________________________________________\n"
          ]
        }
      ],
      "source": [
        "latent_inputs = keras.Input(shape=(latent_dim,))\n",
        "x = layers.Dense(7 * 7 * 64, activation=\"tanh\")(latent_inputs)\n",
        "x = layers.Reshape((7, 7, 64))(x)\n",
        "x = layers.Conv2DTranspose(64, 3, activation=\"tanh\", strides=2, padding=\"same\")(x)\n",
        "x = layers.Conv2DTranspose(32, 3, activation=\"tanh\", strides=2, padding=\"same\")(x)\n",
        "decoder_outputs = layers.Conv2DTranspose(1, 3, activation=\"sigmoid\", padding=\"same\")(x)\n",
        "decoder = keras.Model(latent_inputs, decoder_outputs, name=\"decoder\")\n",
        "decoder.summary()"
      ]
    },
    {
      "cell_type": "code",
      "execution_count": null,
      "metadata": {
        "id": "glkzM5YPU06Z"
      },
      "outputs": [],
      "source": [
        "\n",
        "class VAE(keras.Model):\n",
        "    def __init__(self, encoder, decoder, **kwargs):\n",
        "        super(VAE, self).__init__(**kwargs)\n",
        "        self.encoder = encoder\n",
        "        self.decoder = decoder\n",
        "        self.total_loss_tracker = keras.metrics.Mean(name=\"total_loss\")\n",
        "        self.reconstruction_loss_tracker = keras.metrics.Mean(\n",
        "            name=\"reconstruction_loss\"\n",
        "        )\n",
        "        self.kl_loss_tracker = keras.metrics.Mean(name=\"kl_loss\")\n",
        "\n",
        "    @property\n",
        "    def metrics(self):\n",
        "        return [\n",
        "            self.total_loss_tracker,\n",
        "            self.reconstruction_loss_tracker,\n",
        "            self.kl_loss_tracker,\n",
        "        ]\n",
        "\n",
        "    def train_step(self, data):\n",
        "        with tf.GradientTape() as tape:\n",
        "            z_mean, z_log_var, z = self.encoder(data)\n",
        "            reconstruction = self.decoder(z)\n",
        "            reconstruction_loss = tf.reduce_mean(\n",
        "                tf.reduce_sum(\n",
        "                    keras.losses.binary_crossentropy(data, reconstruction), axis=(1, 2)\n",
        "                )\n",
        "            )\n",
        "            kl_loss = -0.5 * (1 + z_log_var - tf.square(z_mean) - tf.exp(z_log_var))\n",
        "            kl_loss = tf.reduce_mean(tf.reduce_sum(kl_loss, axis=1))\n",
        "            total_loss = reconstruction_loss + kl_loss\n",
        "        grads = tape.gradient(total_loss, self.trainable_weights)\n",
        "        self.optimizer.apply_gradients(zip(grads, self.trainable_weights))\n",
        "        self.total_loss_tracker.update_state(total_loss)\n",
        "        self.reconstruction_loss_tracker.update_state(reconstruction_loss)\n",
        "        self.kl_loss_tracker.update_state(kl_loss)\n",
        "        return {\n",
        "            \"loss\": self.total_loss_tracker.result(),\n",
        "            \"reconstruction_loss\": self.reconstruction_loss_tracker.result(),\n",
        "            \"kl_loss\": self.kl_loss_tracker.result(),\n",
        "        }\n"
      ]
    },
    {
      "cell_type": "code",
      "execution_count": null,
      "metadata": {
        "colab": {
          "base_uri": "https://localhost:8080/"
        },
        "id": "9ZSRMxXiU06a",
        "outputId": "8b87437c-5ab5-4db2-c80a-aa6e25e1ce28"
      },
      "outputs": [
        {
          "output_type": "stream",
          "name": "stdout",
          "text": [
            "Downloading data from https://storage.googleapis.com/tensorflow/tf-keras-datasets/mnist.npz\n",
            "11490434/11490434 [==============================] - 1s 0us/step\n",
            "Epoch 1/50\n",
            "274/274 [==============================] - 13s 14ms/step - loss: 276.4325 - reconstruction_loss: 224.4695 - kl_loss: 4.2791\n",
            "Epoch 2/50\n",
            "274/274 [==============================] - 4s 13ms/step - loss: 208.2777 - reconstruction_loss: 206.9095 - kl_loss: 0.8822\n",
            "Epoch 3/50\n",
            "274/274 [==============================] - 4s 13ms/step - loss: 206.7999 - reconstruction_loss: 206.5899 - kl_loss: 0.1976\n",
            "Epoch 4/50\n",
            "274/274 [==============================] - 4s 13ms/step - loss: 206.7312 - reconstruction_loss: 206.4288 - kl_loss: 0.0356\n",
            "Epoch 5/50\n",
            "274/274 [==============================] - 4s 13ms/step - loss: 206.1906 - reconstruction_loss: 206.3481 - kl_loss: 0.0166\n",
            "Epoch 6/50\n",
            "274/274 [==============================] - 4s 14ms/step - loss: 206.3427 - reconstruction_loss: 206.2944 - kl_loss: 0.0115\n",
            "Epoch 7/50\n",
            "274/274 [==============================] - 4s 14ms/step - loss: 206.4244 - reconstruction_loss: 206.2971 - kl_loss: 0.0086\n",
            "Epoch 8/50\n",
            "274/274 [==============================] - 4s 13ms/step - loss: 206.4765 - reconstruction_loss: 206.2620 - kl_loss: 0.0071\n",
            "Epoch 9/50\n",
            "274/274 [==============================] - 4s 14ms/step - loss: 206.1164 - reconstruction_loss: 206.2637 - kl_loss: 0.0046\n",
            "Epoch 10/50\n",
            "274/274 [==============================] - 4s 14ms/step - loss: 205.8168 - reconstruction_loss: 206.2284 - kl_loss: 0.0048\n",
            "Epoch 11/50\n",
            "274/274 [==============================] - 4s 14ms/step - loss: 206.3615 - reconstruction_loss: 206.2143 - kl_loss: 0.0044\n",
            "Epoch 12/50\n",
            "274/274 [==============================] - 4s 14ms/step - loss: 206.2475 - reconstruction_loss: 206.2165 - kl_loss: 0.0037\n",
            "Epoch 13/50\n",
            "274/274 [==============================] - 4s 14ms/step - loss: 206.0972 - reconstruction_loss: 206.2349 - kl_loss: 0.0041\n",
            "Epoch 14/50\n",
            "274/274 [==============================] - 4s 14ms/step - loss: 206.1709 - reconstruction_loss: 206.2159 - kl_loss: 0.0031\n",
            "Epoch 15/50\n",
            "274/274 [==============================] - 4s 14ms/step - loss: 205.9986 - reconstruction_loss: 206.2042 - kl_loss: 0.0027\n",
            "Epoch 16/50\n",
            "274/274 [==============================] - 4s 14ms/step - loss: 206.1287 - reconstruction_loss: 206.2002 - kl_loss: 0.0025\n",
            "Epoch 17/50\n",
            "274/274 [==============================] - 4s 14ms/step - loss: 206.1148 - reconstruction_loss: 206.1808 - kl_loss: 0.0025\n",
            "Epoch 18/50\n",
            "274/274 [==============================] - 4s 16ms/step - loss: 206.2124 - reconstruction_loss: 206.1983 - kl_loss: 0.0024\n",
            "Epoch 19/50\n",
            "274/274 [==============================] - 4s 14ms/step - loss: 206.1794 - reconstruction_loss: 206.1817 - kl_loss: 0.0022\n",
            "Epoch 20/50\n",
            "274/274 [==============================] - 4s 14ms/step - loss: 206.0457 - reconstruction_loss: 206.1754 - kl_loss: 0.0023\n",
            "Epoch 21/50\n",
            "274/274 [==============================] - 4s 14ms/step - loss: 206.0329 - reconstruction_loss: 206.1855 - kl_loss: 0.0022\n",
            "Epoch 22/50\n",
            "274/274 [==============================] - 4s 14ms/step - loss: 206.0551 - reconstruction_loss: 206.1719 - kl_loss: 0.0018\n",
            "Epoch 23/50\n",
            "274/274 [==============================] - 4s 16ms/step - loss: 206.0119 - reconstruction_loss: 206.1898 - kl_loss: 0.0020\n",
            "Epoch 24/50\n",
            "274/274 [==============================] - 5s 18ms/step - loss: 206.3378 - reconstruction_loss: 206.1183 - kl_loss: 0.0017\n",
            "Epoch 25/50\n",
            "274/274 [==============================] - 5s 19ms/step - loss: 206.3344 - reconstruction_loss: 206.1625 - kl_loss: 0.0017\n",
            "Epoch 26/50\n",
            "274/274 [==============================] - 4s 15ms/step - loss: 206.2868 - reconstruction_loss: 206.1634 - kl_loss: 0.0015\n",
            "Epoch 27/50\n",
            "274/274 [==============================] - 4s 14ms/step - loss: 206.1067 - reconstruction_loss: 206.1451 - kl_loss: 0.0015\n",
            "Epoch 28/50\n",
            "274/274 [==============================] - 4s 14ms/step - loss: 205.9374 - reconstruction_loss: 206.1351 - kl_loss: 0.0016\n",
            "Epoch 29/50\n",
            "274/274 [==============================] - 4s 14ms/step - loss: 206.2485 - reconstruction_loss: 206.1409 - kl_loss: 0.0018\n",
            "Epoch 30/50\n",
            "274/274 [==============================] - 4s 14ms/step - loss: 206.3416 - reconstruction_loss: 206.1399 - kl_loss: 0.0014\n",
            "Epoch 31/50\n",
            "274/274 [==============================] - 4s 14ms/step - loss: 206.1159 - reconstruction_loss: 206.1340 - kl_loss: 0.0013\n",
            "Epoch 32/50\n",
            "274/274 [==============================] - 4s 14ms/step - loss: 206.0552 - reconstruction_loss: 206.1160 - kl_loss: 0.0014\n",
            "Epoch 33/50\n",
            "274/274 [==============================] - 4s 14ms/step - loss: 206.1107 - reconstruction_loss: 206.1531 - kl_loss: 0.0015\n",
            "Epoch 34/50\n",
            "274/274 [==============================] - 4s 16ms/step - loss: 205.8308 - reconstruction_loss: 206.1188 - kl_loss: 0.0013\n",
            "Epoch 35/50\n",
            "274/274 [==============================] - 4s 14ms/step - loss: 205.9492 - reconstruction_loss: 206.1347 - kl_loss: 0.0011\n",
            "Epoch 36/50\n",
            "274/274 [==============================] - 4s 14ms/step - loss: 206.1557 - reconstruction_loss: 206.1122 - kl_loss: 0.0012\n",
            "Epoch 37/50\n",
            "274/274 [==============================] - 4s 14ms/step - loss: 206.0146 - reconstruction_loss: 206.1282 - kl_loss: 0.0010\n",
            "Epoch 38/50\n",
            "274/274 [==============================] - 4s 14ms/step - loss: 206.1985 - reconstruction_loss: 206.1286 - kl_loss: 0.0013\n",
            "Epoch 39/50\n",
            "274/274 [==============================] - 4s 14ms/step - loss: 205.7919 - reconstruction_loss: 206.1070 - kl_loss: 0.0011\n",
            "Epoch 40/50\n",
            "274/274 [==============================] - 4s 14ms/step - loss: 206.0513 - reconstruction_loss: 203.5131 - kl_loss: 0.3696\n",
            "Epoch 41/50\n",
            "274/274 [==============================] - 4s 14ms/step - loss: 174.8634 - reconstruction_loss: 167.4023 - kl_loss: 4.4867\n",
            "Epoch 42/50\n",
            "274/274 [==============================] - 4s 14ms/step - loss: 166.7253 - reconstruction_loss: 160.5675 - kl_loss: 4.9610\n",
            "Epoch 43/50\n",
            "274/274 [==============================] - 4s 16ms/step - loss: 162.6796 - reconstruction_loss: 156.9957 - kl_loss: 5.1738\n",
            "Epoch 44/50\n",
            "274/274 [==============================] - 4s 14ms/step - loss: 160.2760 - reconstruction_loss: 154.9144 - kl_loss: 5.3041\n",
            "Epoch 45/50\n",
            "274/274 [==============================] - 4s 14ms/step - loss: 159.1179 - reconstruction_loss: 153.4073 - kl_loss: 5.3943\n",
            "Epoch 46/50\n",
            "274/274 [==============================] - 4s 14ms/step - loss: 157.9239 - reconstruction_loss: 152.2233 - kl_loss: 5.4677\n",
            "Epoch 47/50\n",
            "274/274 [==============================] - 4s 14ms/step - loss: 156.7871 - reconstruction_loss: 151.2806 - kl_loss: 5.5433\n",
            "Epoch 48/50\n",
            "274/274 [==============================] - 4s 14ms/step - loss: 156.0082 - reconstruction_loss: 150.4587 - kl_loss: 5.6058\n",
            "Epoch 49/50\n",
            "274/274 [==============================] - 4s 14ms/step - loss: 155.8728 - reconstruction_loss: 149.6935 - kl_loss: 5.6615\n",
            "Epoch 50/50\n",
            "274/274 [==============================] - 4s 14ms/step - loss: 154.6576 - reconstruction_loss: 149.0278 - kl_loss: 5.7157\n"
          ]
        }
      ],
      "source": [
        "(x_train, _), (x_test, _) = keras.datasets.mnist.load_data()\n",
        "mnist_digits = np.concatenate([x_train, x_test], axis=0)\n",
        "mnist_digits = np.expand_dims(mnist_digits, -1).astype(\"float32\") / 255\n",
        "\n",
        "vae = VAE(encoder, decoder)\n",
        "vae.compile(optimizer=keras.optimizers.Adam())\n",
        "history = vae.fit(mnist_digits, epochs=50, batch_size=256)"
      ]
    },
    {
      "cell_type": "code",
      "source": [
        "import pandas as pd\n",
        "import matplotlib.pyplot as plt\n",
        "from google.colab import files\n",
        "\n",
        "hist_df = pd.DataFrame(history.history)\n",
        "plt.figure(figsize=(10, 8))\n",
        "hist_df.plot()\n",
        "# hist_df.plot(y='reconstruction_loss', label='decoder loss')\n",
        "plt.xlabel('Epoch')\n",
        "plt.ylabel('Loss')\n",
        "plt.legend()\n",
        "plt.savefig('Losses_Adam.png',dpi=300)\n",
        "files.download(\"Losses_Adam.png\") \n",
        "plt.show()\n"
      ],
      "metadata": {
        "colab": {
          "base_uri": "https://localhost:8080/",
          "height": 297
        },
        "id": "W9M7wXa0jbNS",
        "outputId": "57ef13bd-89ef-4e05-fe5f-c39e83f2eaf2"
      },
      "execution_count": null,
      "outputs": [
        {
          "output_type": "display_data",
          "data": {
            "text/plain": [
              "<IPython.core.display.Javascript object>"
            ],
            "application/javascript": [
              "\n",
              "    async function download(id, filename, size) {\n",
              "      if (!google.colab.kernel.accessAllowed) {\n",
              "        return;\n",
              "      }\n",
              "      const div = document.createElement('div');\n",
              "      const label = document.createElement('label');\n",
              "      label.textContent = `Downloading \"${filename}\": `;\n",
              "      div.appendChild(label);\n",
              "      const progress = document.createElement('progress');\n",
              "      progress.max = size;\n",
              "      div.appendChild(progress);\n",
              "      document.body.appendChild(div);\n",
              "\n",
              "      const buffers = [];\n",
              "      let downloaded = 0;\n",
              "\n",
              "      const channel = await google.colab.kernel.comms.open(id);\n",
              "      // Send a message to notify the kernel that we're ready.\n",
              "      channel.send({})\n",
              "\n",
              "      for await (const message of channel.messages) {\n",
              "        // Send a message to notify the kernel that we're ready.\n",
              "        channel.send({})\n",
              "        if (message.buffers) {\n",
              "          for (const buffer of message.buffers) {\n",
              "            buffers.push(buffer);\n",
              "            downloaded += buffer.byteLength;\n",
              "            progress.value = downloaded;\n",
              "          }\n",
              "        }\n",
              "      }\n",
              "      const blob = new Blob(buffers, {type: 'application/binary'});\n",
              "      const a = document.createElement('a');\n",
              "      a.href = window.URL.createObjectURL(blob);\n",
              "      a.download = filename;\n",
              "      div.appendChild(a);\n",
              "      a.click();\n",
              "      div.remove();\n",
              "    }\n",
              "  "
            ]
          },
          "metadata": {}
        },
        {
          "output_type": "display_data",
          "data": {
            "text/plain": [
              "<IPython.core.display.Javascript object>"
            ],
            "application/javascript": [
              "download(\"download_8a9f9b5e-0c44-465a-8831-f28fc57c05aa\", \"Losses_Adam.png\", 66123)"
            ]
          },
          "metadata": {}
        },
        {
          "output_type": "display_data",
          "data": {
            "text/plain": [
              "<Figure size 720x576 with 0 Axes>"
            ]
          },
          "metadata": {}
        },
        {
          "output_type": "display_data",
          "data": {
            "text/plain": [
              "<Figure size 432x288 with 1 Axes>"
            ],
            "image/png": "[encoded data removed]"
          },
          "metadata": {
            "needs_background": "light"
          }
        }
      ]
    },
    {
      "cell_type": "code",
      "execution_count": null,
      "metadata": {
        "id": "hThhqUAjU06a"
      },
      "outputs": [],
      "source": [
        "import matplotlib.pyplot as plt\n",
        "\n",
        "\n",
        "def plot_latent_space(vae, n=30, figsize=15):\n",
        "    # display a n*n 2D manifold of digits\n",
        "    digit_size = 28\n",
        "    scale = 1.0\n",
        "    figure = np.zeros((digit_size * n, digit_size * n))\n",
        "    # linearly spaced coordinates corresponding to the 2D plot\n",
        "    # of digit classes in the latent space\n",
        "    grid_x = np.linspace(-scale, scale, n)\n",
        "    grid_y = np.linspace(-scale, scale, n)[::-1]\n",
        "\n",
        "    for i, yi in enumerate(grid_y):\n",
        "        for j, xi in enumerate(grid_x):\n",
        "            z_sample = np.array([[xi, yi]])\n",
        "            x_decoded = vae.decoder.predict(z_sample)\n",
        "            digit = x_decoded[0].reshape(digit_size, digit_size)\n",
        "            figure[\n",
        "                i * digit_size : (i + 1) * digit_size,\n",
        "                j * digit_size : (j + 1) * digit_size,\n",
        "            ] = digit\n",
        "\n",
        "    plt.figure(figsize=(figsize, figsize))\n",
        "    start_range = digit_size // 2\n",
        "    end_range = n * digit_size + start_range\n",
        "    pixel_range = np.arange(start_range, end_range, digit_size)\n",
        "    sample_range_x = np.round(grid_x, 1)\n",
        "    sample_range_y = np.round(grid_y, 1)\n",
        "    plt.xticks(pixel_range, sample_range_x)\n",
        "    plt.yticks(pixel_range, sample_range_y)\n",
        "    plt.xlabel(\"z[0]\")\n",
        "    plt.ylabel(\"z[1]\")\n",
        "    plt.imshow(figure, cmap=\"Greys_r\")\n",
        "    plt.show()\n",
        "\n",
        "\n",
        "plot_latent_space(vae)"
      ]
    },
    {
      "cell_type": "code",
      "execution_count": null,
      "metadata": {
        "id": "407oSZhqU06b"
      },
      "outputs": [],
      "source": [
        "\n",
        "def plot_label_clusters(vae, data, labels):\n",
        "    # display a 2D plot of the digit classes in the latent space\n",
        "    z_mean, _, _ = vae.encoder.predict(data)\n",
        "    plt.figure(figsize=(12, 10))\n",
        "    plt.scatter(z_mean[:, 0], z_mean[:, 1], c=labels)\n",
        "    plt.colorbar()\n",
        "    plt.xlabel(\"z[0]\")\n",
        "    plt.ylabel(\"z[1]\")\n",
        "    plt.show()\n",
        "\n",
        "\n",
        "(x_train, y_train), _ = keras.datasets.mnist.load_data()\n",
        "x_train = np.expand_dims(x_train, -1).astype(\"float32\") / 255\n",
        "\n",
        "plot_label_clusters(vae, x_train, y_train)"
      ]
    }
  ],
  "metadata": {
    "colab": {
      "provenance": []
    },
    "kernelspec": {
      "display_name": "Python 3",
      "language": "python",
      "name": "python3"
    },
    "language_info": {
      "codemirror_mode": {
        "name": "ipython",
        "version": 3
      },
      "file_extension": ".py",
      "mimetype": "text/x-python",
      "name": "python",
      "nbconvert_exporter": "python",
      "pygments_lexer": "ipython3",
      "version": "3.7.0"
    },
    "accelerator": "GPU",
    "gpuClass": "standard"
  },
  "nbformat": 4,
  "nbformat_minor": 0
}